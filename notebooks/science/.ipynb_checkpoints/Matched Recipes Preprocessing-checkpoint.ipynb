{
 "cells": [
  {
   "cell_type": "code",
   "execution_count": 1,
   "metadata": {},
   "outputs": [],
   "source": [
    "import sys\n",
    "sys.path.insert(0, \"/Users/artur/workspace/recipedb\")\n",
    "from recipedb.db import get_db"
   ]
  },
  {
   "cell_type": "code",
   "execution_count": 2,
   "metadata": {},
   "outputs": [],
   "source": [
    "db = get_db()"
   ]
  },
  {
   "cell_type": "code",
   "execution_count": 4,
   "metadata": {},
   "outputs": [],
   "source": [
    "matched_recipes = list(db.matched_recipes.find())\n",
    "food_base = list(db.FoodBase.find())"
   ]
  },
  {
   "cell_type": "code",
   "execution_count": 42,
   "metadata": {},
   "outputs": [],
   "source": [
    "def prepare_features(food_base):\n",
    "    ingredient_features = list(map(lambda x: x['text'],food_base))\n",
    "    ingredient_features.sort()\n",
    "    ingredient_features_indices = {}\n",
    "    i = 0\n",
    "    for feature in ingredient_features:\n",
    "        ingredient_features_indices[feature] = i\n",
    "        i += 1\n",
    "    return ingredient_features, ingredient_features_indices, len(ingredient_features)"
   ]
  },
  {
   "cell_type": "code",
   "execution_count": 43,
   "metadata": {},
   "outputs": [],
   "source": [
    "ingredient_features, ingredient_features_indices, n_features = prepare_features(food_base)"
   ]
  },
  {
   "cell_type": "code",
   "execution_count": 22,
   "metadata": {},
   "outputs": [],
   "source": [
    "unit_base = list(db.UnitBase.find())"
   ]
  },
  {
   "cell_type": "code",
   "execution_count": 44,
   "metadata": {},
   "outputs": [],
   "source": [
    "unit_conversion_dict = {}\n",
    "for unit in unit_base:\n",
    "    unit_conversion_dict[unit['unit_id']] = unit['conversion']"
   ]
  },
  {
   "cell_type": "code",
   "execution_count": 45,
   "metadata": {},
   "outputs": [],
   "source": [
    "def convert_unit_to_base(unit_id, qty):\n",
    "    return unit_conversion_dict[unit_id]*qty"
   ]
  },
  {
   "cell_type": "code",
   "execution_count": 48,
   "metadata": {},
   "outputs": [],
   "source": [
    "import numpy as np\n",
    "\n",
    "\n",
    "def process_matched_recipe(recipe):\n",
    "    Y = np.zeros(n_features)\n",
    "    matches = recipe['matches']\n",
    "    for match in matches:\n",
    "        unit = match['unit']\n",
    "        matched_text = match['match']['text']\n",
    "        converted_amount = convert_unit_to_base(unit['unit']['unit_id'], unit['qty'])\n",
    "        Y[ingredient_features_indices[matched_text]] = converted_amount\n",
    "    return Y\n",
    "        "
   ]
  },
  {
   "cell_type": "code",
   "execution_count": 50,
   "metadata": {},
   "outputs": [],
   "source": [
    "Y = process_matched_recipe(matched_recipes[0])"
   ]
  },
  {
   "cell_type": "code",
   "execution_count": 51,
   "metadata": {},
   "outputs": [
    {
     "data": {
      "text/plain": [
       "(array([ 214, 1236, 1372, 1852, 1907]),)"
      ]
     },
     "execution_count": 51,
     "metadata": {},
     "output_type": "execute_result"
    }
   ],
   "source": [
    "np.where(Y > 0)"
   ]
  },
  {
   "cell_type": "code",
   "execution_count": 57,
   "metadata": {},
   "outputs": [
    {
     "data": {
      "text/plain": [
       "'toasted pecans'"
      ]
     },
     "execution_count": 57,
     "metadata": {},
     "output_type": "execute_result"
    }
   ],
   "source": [
    "ingredient_features[1907]"
   ]
  },
  {
   "cell_type": "code",
   "execution_count": null,
   "metadata": {},
   "outputs": [],
   "source": []
  }
 ],
 "metadata": {
  "kernelspec": {
   "display_name": "Python 3.7.3 64-bit ('venv': virtualenv)",
   "language": "python",
   "name": "python37364bitvenvvirtualenvc18265ac378e436698ba4d0b09e1ee14"
  },
  "language_info": {
   "codemirror_mode": {
    "name": "ipython",
    "version": 3
   },
   "file_extension": ".py",
   "mimetype": "text/x-python",
   "name": "python",
   "nbconvert_exporter": "python",
   "pygments_lexer": "ipython3",
   "version": "3.7.3"
  }
 },
 "nbformat": 4,
 "nbformat_minor": 4
}
