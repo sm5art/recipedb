{
 "cells": [
  {
   "cell_type": "code",
   "execution_count": 28,
   "metadata": {},
   "outputs": [
    {
     "data": {
      "text/plain": [
       "'\\nTODO:\\nintegrate units into the algorithim, find units first and then remove those terms and then run through the match algo\\n'"
      ]
     },
     "execution_count": 28,
     "metadata": {},
     "output_type": "execute_result"
    }
   ],
   "source": [
    "\"\"\"\n",
    "TODO:\n",
    "integrate units into the algorithim, find units first and then remove those terms and then run through the match algo\n",
    "\"\"\""
   ]
  },
  {
   "cell_type": "code",
   "execution_count": 14,
   "metadata": {},
   "outputs": [],
   "source": [
    "import sys\n",
    "sys.path.insert(0, \"/Users/artur/workspace/recipedb\")"
   ]
  },
  {
   "cell_type": "code",
   "execution_count": 15,
   "metadata": {},
   "outputs": [],
   "source": [
    "from recipedb.db import get_db\n",
    "import pandas as pd\n",
    "import functools\n",
    "import numpy as np\n",
    "import re\n",
    "from fuzzywuzzy import fuzz"
   ]
  },
  {
   "cell_type": "code",
   "execution_count": 16,
   "metadata": {},
   "outputs": [],
   "source": [
    "word_pattern = re.compile(r'\\w+')"
   ]
  },
  {
   "cell_type": "code",
   "execution_count": 17,
   "metadata": {},
   "outputs": [],
   "source": [
    "db = get_db()"
   ]
  },
  {
   "cell_type": "code",
   "execution_count": 18,
   "metadata": {},
   "outputs": [],
   "source": [
    "food_terms = list(db.FoodTerms.find())"
   ]
  },
  {
   "cell_type": "code",
   "execution_count": 19,
   "metadata": {},
   "outputs": [],
   "source": [
    "exs = db.allrecipes.find({\"error\":{\"$eq\":None}})\n",
    "NUM_EXAMPLES = 100\n",
    "exs_recipes = list(map(lambda x: next(exs), range(NUM_EXAMPLES))) # grab the next NUM_EXAMPLES from cursor above"
   ]
  },
  {
   "cell_type": "code",
   "execution_count": 26,
   "metadata": {},
   "outputs": [],
   "source": [
    "THRESHOLD = 75\n",
    "def intersection(lst1, lst2): \n",
    "    return list(set(lst1) & set(lst2)) \n",
    "\n",
    "def match_ingredient(raw_ingred_text):\n",
    "    terms = word_pattern.findall(raw_ingred_text)\n",
    "    matches = []\n",
    "    n = 0\n",
    "    for term in terms:\n",
    "        potential_matches = []\n",
    "        potential_ratios = []\n",
    "        for other_term in food_terms:\n",
    "            ratio = fuzz.ratio(term, other_term['term'])\n",
    "            potential_matches.append(other_term)\n",
    "            potential_ratios.append(ratio)\n",
    "        max_val = max(potential_ratios)\n",
    "        max_matches = []\n",
    "        if max_val < THRESHOLD:\n",
    "            continue # change this later\n",
    "        n += 1\n",
    "        for i in range(len(potential_ratios)):\n",
    "            if potential_ratios[i] == max_val:\n",
    "                max_matches.append(potential_matches[i])\n",
    "        matches.append(max_matches)\n",
    "    match_dict = {}\n",
    "    for match in functools.reduce(lambda x,y: x+y, matches):\n",
    "        if match['foodbase_id'] not in match_dict:\n",
    "            match_dict[match['foodbase_id']] = n/match['n']\n",
    "        else:\n",
    "            match_dict[match['foodbase_id']] += n/match['n']\n",
    "    max_val = 0\n",
    "    final_match = None\n",
    "    for match in match_dict:\n",
    "        if match_dict[match] > max_val:\n",
    "            final_match = match\n",
    "            max_val = match_dict[match]\n",
    "    final_match = list(db.FoodBase.find({\"_id\": final_match}))\n",
    "    print(final_match)\n",
    "        "
   ]
  },
  {
   "cell_type": "code",
   "execution_count": 27,
   "metadata": {},
   "outputs": [
    {
     "name": "stdout",
     "output_type": "stream",
     "text": [
      "INDEX: 15\n",
      "['1 (1.25 ounce) package taco seasoning mix', '1/4 cup all-purpose flour', '3 pounds venison roast', '2 teaspoons cayenne pepper, or to taste', '2 tablespoons vegetable oil', '1 1/2 cups water']\n",
      "[{'_id': ObjectId('5ebcd38f1ec24005c95351fb'), 'text': 'taco mix', 'class': ['AG.01.m', 'AG.01.n.12']}]\n",
      "[{'_id': ObjectId('5ebcd38f1ec24005c95359fa'), 'text': 'all-purpose flour', 'class': ['AG.01.k', 'AG.01.j']}]\n",
      "[{'_id': ObjectId('5ebcd38f1ec24005c95373f0'), 'text': 'roast', 'class': ['AG.01.n.06']}]\n",
      "[{'_id': ObjectId('5ebcd38f1ec24005c9535147'), 'text': 'cayenne pepper', 'class': ['AG.01.l.03']}]\n",
      "[{'_id': ObjectId('5ebcd38f1ec24005c9534f72'), 'text': 'vegetable oil', 'class': ['AG.01.f']}]\n",
      "[{'_id': ObjectId('5ebcd38f1ec24005c9534f50'), 'text': 'water', 'class': ['AG.01.z']}]\n",
      "\n",
      "\n",
      "\n",
      "INDEX: 16\n",
      "['2 pounds round steak', '1 clove garlic, quartered', '2 teaspoons salt', '1 1/2 tablespoons soy sauce', '1 tablespoon tomato paste', '1 tablespoon vegetable oil', '1/2 teaspoon ground black pepper', '1/2 teaspoon dried oregano']\n",
      "[{'_id': ObjectId('5ebcd38f1ec24005c953760d'), 'text': 'steak', 'class': ['AG.01.d', 'AG.01.d.07']}]\n",
      "[{'_id': ObjectId('5ebcd38f1ec24005c9537933'), 'text': 'clove garlic', 'class': ['AG.01.h.02.e', 'AG.01.l.03']}]\n",
      "[{'_id': ObjectId('5ebcd38f1ec24005c9534f62'), 'text': 'salt', 'class': ['AG.01.l.01', 'AG.01.w']}]\n",
      "[{'_id': ObjectId('5ebcd38f1ec24005c9534fcd'), 'text': 'soy sauce', 'class': ['AG.01.h', 'AG.01.l.04']}]\n",
      "[{'_id': ObjectId('5ebcd38f1ec24005c9535287'), 'text': 'tomato paste', 'class': ['AG.01.h.02.f', 'AG.01.l', 'AG.01.n.17']}]\n",
      "[{'_id': ObjectId('5ebcd38f1ec24005c9534f72'), 'text': 'vegetable oil', 'class': ['AG.01.f']}]\n",
      "[{'_id': ObjectId('5ebcd38f1ec24005c9535356'), 'text': 'ground black pepper', 'class': ['AG.01']}]\n",
      "[{'_id': ObjectId('5ebcd38f1ec24005c95355e6'), 'text': 'oregano', 'class': ['AG.01']}]\n",
      "\n",
      "\n",
      "\n",
      "INDEX: 17\n",
      "['1/4 cup butter', '1 teaspoon white sugar', '1 cup hot milk', '2 tablespoons active dry yeast', '6 cups bread flour, divided', '1/2 cup white sugar', '2 eggs', '1 cup orange juice', '1 tablespoon orange zest', '1 teaspoon salt']\n",
      "[{'_id': ObjectId('5ebcd38f1ec24005c953501f'), 'text': 'butter', 'class': ['AG.01.e.01', 'AG.01.n']}]\n",
      "[{'_id': ObjectId('5ebcd38f1ec24005c9534fb3'), 'text': 'white sugar', 'class': ['AG.01.l.02']}]\n",
      "[{'_id': ObjectId('5ebcd38f1ec24005c95373d0'), 'text': 'hot milk', 'class': ['AG.01', 'AG.01.e']}]\n",
      "[{'_id': ObjectId('5ebcd38f1ec24005c9535911'), 'text': 'yeast', 'class': ['AG.01.ae.03', 'AG.01.m']}]\n",
      "[{'_id': ObjectId('5ebcd38f1ec24005c95351d1'), 'text': 'bread', 'class': ['AG.01.n.11']}]\n",
      "[{'_id': ObjectId('5ebcd38f1ec24005c9534fb3'), 'text': 'white sugar', 'class': ['AG.01.l.02']}]\n",
      "[{'_id': ObjectId('5ebcd38f1ec24005c9534fae'), 'text': 'eggs', 'class': ['AG.01.g']}]\n",
      "[{'_id': ObjectId('5ebcd38f1ec24005c9535ab1'), 'text': 'orange', 'class': ['AG.01.ab', 'AG.01.h.01.a']}]\n",
      "[{'_id': ObjectId('5ebcd38f1ec24005c9535ab1'), 'text': 'orange', 'class': ['AG.01.ab', 'AG.01.h.01.a']}]\n",
      "[{'_id': ObjectId('5ebcd38f1ec24005c9534f62'), 'text': 'salt', 'class': ['AG.01.l.01', 'AG.01.w']}]\n",
      "\n",
      "\n",
      "\n",
      "INDEX: 18\n",
      "['3 1/2 pounds boneless chuck roast', '2 tablespoons vegetable oil', '1 (14.5 ounce) can stewed tomatoes', '1 1/2 cups pizza sauce', '1/2 cup grated Parmesan cheese', '4 teaspoons Worcestershire sauce', '2 cloves garlic, minced', '2 teaspoons salt', '2 teaspoons dried oregano', '1/2 teaspoon ground black pepper', '1/2 pound fresh mushrooms, sliced', '3 tablespoons cornstarch', '3 tablespoons water', '1 (12 ounce) package egg noodles']\n",
      "[{'_id': ObjectId('5ebcd38f1ec24005c953540f'), 'text': 'bones', 'class': ['AG.01']}]\n",
      "[{'_id': ObjectId('5ebcd38f1ec24005c9534f72'), 'text': 'vegetable oil', 'class': ['AG.01.f']}]\n",
      "[{'_id': ObjectId('5ebcd38f1ec24005c95377ee'), 'text': 'stewed tomatoes', 'class': ['AG.01.h.02.f', 'AG.01.t.07']}]\n",
      "[{'_id': ObjectId('5ebcd38f1ec24005c9535000'), 'text': 'pizza sauce', 'class': ['AG.01.h', 'AG.01.n.11', 'AG.01.l.04']}]\n",
      "[{'_id': ObjectId('5ebcd38f1ec24005c9535144'), 'text': 'grated cheese', 'class': ['AG.01.e.02', 'AG.01.n.18']}]\n",
      "[{'_id': ObjectId('5ebcd38f1ec24005c9534f44'), 'text': 'worcestershire sauce', 'class': ['AG.01.h', 'AG.01.l.04']}]\n",
      "[{'_id': ObjectId('5ebcd38f1ec24005c9534fa5'), 'text': 'cloves', 'class': ['AG.01.l.03']}]\n",
      "[{'_id': ObjectId('5ebcd38f1ec24005c9534f62'), 'text': 'salt', 'class': ['AG.01.l.01', 'AG.01.w']}]\n",
      "[{'_id': ObjectId('5ebcd38f1ec24005c95355e6'), 'text': 'oregano', 'class': ['AG.01']}]\n",
      "[{'_id': ObjectId('5ebcd38f1ec24005c9535356'), 'text': 'ground black pepper', 'class': ['AG.01']}]\n",
      "[{'_id': ObjectId('5ebcd38f1ec24005c95350ce'), 'text': 'mushrooms', 'class': ['AG.01.h.02.h']}]\n",
      "[{'_id': ObjectId('5ebcd38f1ec24005c953557f'), 'text': 'cornstarch', 'class': ['AG.01']}]\n",
      "[{'_id': ObjectId('5ebcd38f1ec24005c9534f50'), 'text': 'water', 'class': ['AG.01.z']}]\n",
      "[{'_id': ObjectId('5ebcd38f1ec24005c9534fe3'), 'text': 'egg', 'class': ['AG.01.g']}]\n",
      "\n",
      "\n",
      "\n",
      "INDEX: 19\n",
      "['8 cups all-purpose flour', '4 cups shredded Cheddar cheese', '3/4 cup minced jalapeno peppers', '1/2 cup white sugar', '1 1/2 teaspoons salt', '2 cups hot water', '3 (.25 ounce) packages active dry yeast', '4 tablespoons vegetable oil']\n",
      "[{'_id': ObjectId('5ebcd38f1ec24005c95359fa'), 'text': 'all-purpose flour', 'class': ['AG.01.k', 'AG.01.j']}]\n",
      "[{'_id': ObjectId('5ebcd38f1ec24005c95351bd'), 'text': 'shredded cheese', 'class': ['AG.01.e.02', 'AG.01.n.18']}]\n",
      "[{'_id': ObjectId('5ebcd38f1ec24005c95350a2'), 'text': 'jalapeno peppers', 'class': ['AG.01.l.03']}]\n",
      "[{'_id': ObjectId('5ebcd38f1ec24005c9534fb3'), 'text': 'white sugar', 'class': ['AG.01.l.02']}]\n",
      "[{'_id': ObjectId('5ebcd38f1ec24005c9534f62'), 'text': 'salt', 'class': ['AG.01.l.01', 'AG.01.w']}]\n",
      "[{'_id': ObjectId('5ebcd38f1ec24005c953520a'), 'text': 'hot water', 'class': ['AG.01.z', 'AG.01']}]\n",
      "[{'_id': ObjectId('5ebcd38f1ec24005c95356f3'), 'text': 'pancakes', 'class': ['AG.01.n.12']}]\n",
      "[{'_id': ObjectId('5ebcd38f1ec24005c9534f72'), 'text': 'vegetable oil', 'class': ['AG.01.f']}]\n",
      "\n",
      "\n",
      "\n",
      "INDEX: 20\n",
      "['4 pounds boneless chuck roast', '2 cups water', '1 (1 ounce) package dry onion and mushroom soup mix', '1 tablespoon Worcestershire sauce', '3 potatoes, peeled and chopped', '2 stalks celery, chopped', '2 carrots, chopped']\n",
      "[{'_id': ObjectId('5ebcd38f1ec24005c953540f'), 'text': 'bones', 'class': ['AG.01']}]\n",
      "[{'_id': ObjectId('5ebcd38f1ec24005c9534f50'), 'text': 'water', 'class': ['AG.01.z']}]\n",
      "[{'_id': ObjectId('5ebcd38f1ec24005c9535625'), 'text': 'dry onion soup mix', 'class': ['AG.01.h.02.e', 'AG.01.m', 'AG.01.n.02']}]\n",
      "[{'_id': ObjectId('5ebcd38f1ec24005c9534f44'), 'text': 'worcestershire sauce', 'class': ['AG.01.h', 'AG.01.l.04']}]\n",
      "[{'_id': ObjectId('5ebcd38f1ec24005c9535141'), 'text': 'potatoes', 'class': ['AG.01.h.02.a']}]\n",
      "[{'_id': ObjectId('5ebcd38f1ec24005c953624c'), 'text': 'celery stalk', 'class': ['AG.01.h.02.b']}]\n",
      "[{'_id': ObjectId('5ebcd38f1ec24005c9534fc5'), 'text': 'carrots', 'class': ['AG.01.h.02.a']}]\n",
      "\n",
      "\n",
      "\n",
      "INDEX: 21\n",
      "['2 tablespoons active dry yeast', '1 teaspoon white sugar', '1/2 cup warm water', '3 1/2 cups warm water', '1/4 cup honey', '1/4 cup molasses', '1/2 cup vegetable oil', '2 eggs', '2 tablespoons lemon juice', '7 cups whole wheat flour', '1/4 cup flax seed', '1/4 cup cracked wheat', '1/4 cup sunflower seeds', '4 teaspoons salt', '4 cups bread flour']\n",
      "[{'_id': ObjectId('5ebcd38f1ec24005c9535911'), 'text': 'yeast', 'class': ['AG.01.ae.03', 'AG.01.m']}]\n",
      "[{'_id': ObjectId('5ebcd38f1ec24005c9534fb3'), 'text': 'white sugar', 'class': ['AG.01.l.02']}]\n",
      "[{'_id': ObjectId('5ebcd38f1ec24005c9536620'), 'text': 'warm water', 'class': ['AG.01.z']}]\n",
      "[{'_id': ObjectId('5ebcd38f1ec24005c9536620'), 'text': 'warm water', 'class': ['AG.01.z']}]\n",
      "[{'_id': ObjectId('5ebcd38f1ec24005c9534f66'), 'text': 'honey', 'class': ['AG.01.l.02']}]\n",
      "[{'_id': ObjectId('5ebcd38f1ec24005c95353e7'), 'text': 'molasses', 'class': ['AG.01']}]\n",
      "[{'_id': ObjectId('5ebcd38f1ec24005c9534f72'), 'text': 'vegetable oil', 'class': ['AG.01.f']}]\n",
      "[{'_id': ObjectId('5ebcd38f1ec24005c9534fae'), 'text': 'eggs', 'class': ['AG.01.g']}]\n",
      "[{'_id': ObjectId('5ebcd38f1ec24005c9534f65'), 'text': 'lemon juice', 'class': ['AG.01.ab', 'AG.01.h.01.a', 'AG.01.l.02']}]\n",
      "[{'_id': ObjectId('5ebcd38f1ec24005c95359fb'), 'text': 'whole wheat flour', 'class': ['AG.01.e', 'AG.01.i', 'AG.01.j', 'AG.01.k']}]\n"
     ]
    },
    {
     "name": "stdout",
     "output_type": "stream",
     "text": [
      "[{'_id': ObjectId('5ebcd38f1ec24005c95359c7'), 'text': 'flax seed', 'class': ['AF.10.i']}]\n",
      "[{'_id': ObjectId('5ebcd38f1ec24005c9535025'), 'text': 'cracker crumbs', 'class': ['AG.01']}]\n",
      "[{'_id': ObjectId('5ebcd38f1ec24005c9535538'), 'text': 'sunflower seeds', 'class': ['AF.10.i']}]\n",
      "[{'_id': ObjectId('5ebcd38f1ec24005c9534f62'), 'text': 'salt', 'class': ['AG.01.l.01', 'AG.01.w']}]\n",
      "[{'_id': ObjectId('5ebcd38f1ec24005c95351d1'), 'text': 'bread', 'class': ['AG.01.n.11']}]\n",
      "\n",
      "\n",
      "\n",
      "INDEX: 22\n",
      "['1 (14.5 ounce) can French-style green beans, drained', '1 (11 ounce) can white corn, drained', '1 small onion, chopped', '1/2 green bell pepper, chopped', '1 (8 ounce) container sour cream', '1 (10.75 ounce) can condensed cream of celery soup', '1/2 cup shredded sharp Cheddar cheese', 'salt and pepper to taste', '1/2 (16 ounce) package cheese flavored crackers, crushed', '1/4 cup butter, melted']\n",
      "[{'_id': ObjectId('5ebcd38f1ec24005c9534fc7'), 'text': 'green beans', 'class': ['AF.20.f']}]\n",
      "[{'_id': ObjectId('5ebcd38f1ec24005c9534fb9'), 'text': 'corn', 'class': ['AG.01.i']}]\n",
      "[{'_id': ObjectId('5ebcd38f1ec24005c9534f43'), 'text': 'onion', 'class': ['AG.01.h.02.e']}]\n",
      "[{'_id': ObjectId('5ebcd38f1ec24005c9534fc8'), 'text': 'green bell pepper', 'class': ['AG.01.l.03']}]\n",
      "[{'_id': ObjectId('5ebcd38f1ec24005c9534ff0'), 'text': 'sour cream', 'class': ['AG.01.e', 'AG.01.n']}]\n",
      "[{'_id': ObjectId('5ebcd38f1ec24005c9537fb0'), 'text': 'condensed soup', 'class': ['AG.01.n.02']}]\n",
      "[{'_id': ObjectId('5ebcd38f1ec24005c95351bd'), 'text': 'shredded cheese', 'class': ['AG.01.e.02', 'AG.01.n.18']}]\n",
      "[{'_id': ObjectId('5ebcd38f1ec24005c9534f62'), 'text': 'salt', 'class': ['AG.01.l.01', 'AG.01.w']}]\n",
      "[{'_id': ObjectId('5ebcd38f1ec24005c9534f7a'), 'text': 'cheese', 'class': ['AG.01.e.02', 'AG.01.n.18']}]\n",
      "[{'_id': ObjectId('5ebcd38f1ec24005c9534ff7'), 'text': 'melted butter', 'class': ['AG.01.e.01', 'AG.01.n', 'AG.01.t.07']}]\n",
      "\n",
      "\n",
      "\n",
      "INDEX: 23\n",
      "['2 tablespoons corn syrup', '1/2 cup butter', '1 cup packed brown sugar', '1 (1 pound) loaf French bread, sliced', '5 eggs', '1 1/2 cups milk', '1 teaspoon vanilla extract', '1/4 teaspoon salt']\n",
      "[{'_id': ObjectId('5ebcd38f1ec24005c9534fb9'), 'text': 'corn', 'class': ['AG.01.i']}]\n",
      "[{'_id': ObjectId('5ebcd38f1ec24005c953501f'), 'text': 'butter', 'class': ['AG.01.e.01', 'AG.01.n']}]\n",
      "[{'_id': ObjectId('5ebcd38f1ec24005c95356f1'), 'text': 'pancake', 'class': ['AG.01.n.12']}]\n",
      "[{'_id': ObjectId('5ebcd38f1ec24005c953764d'), 'text': 'round loaf', 'class': ['AG.01.n.06', 'AG.01.n.11']}]\n",
      "[{'_id': ObjectId('5ebcd38f1ec24005c9534fae'), 'text': 'eggs', 'class': ['AG.01.g']}]\n",
      "[{'_id': ObjectId('5ebcd38f1ec24005c9534f88'), 'text': 'milk', 'class': ['AG.01.e']}]\n",
      "[{'_id': ObjectId('5ebcd38f1ec24005c9534fb0'), 'text': 'vanilla extract', 'class': ['AF.12']}]\n",
      "[{'_id': ObjectId('5ebcd38f1ec24005c9534f62'), 'text': 'salt', 'class': ['AG.01.l.01', 'AG.01.w']}]\n",
      "\n",
      "\n",
      "\n",
      "INDEX: 24\n",
      "['1 1/2 pounds ground beef', '3/4 cup fresh bread crumbs', '1/2 cup chili sauce', '1 egg', '1/4 teaspoon salt', '1/4 teaspoon freshly ground black pepper', '1 cup fresh sliced mushrooms', '2 tablespoons minced onion', '1 tablespoon butter', '1 cup beef broth', '2 tablespoons water', '1 tablespoon cornstarch']\n",
      "[{'_id': ObjectId('5ebcd38f1ec24005c9534fe8'), 'text': 'ground beef', 'class': ['AG.01.d.03']}]\n",
      "[{'_id': ObjectId('5ebcd38f1ec24005c9534fdc'), 'text': 'bread crumbs', 'class': ['AG.01.n.11']}]\n",
      "[{'_id': ObjectId('5ebcd38f1ec24005c953549e'), 'text': 'chili sauce', 'class': ['AG.01.l.04', 'AG.01.h']}]\n",
      "[{'_id': ObjectId('5ebcd38f1ec24005c9534fe3'), 'text': 'egg', 'class': ['AG.01.g']}]\n",
      "[{'_id': ObjectId('5ebcd38f1ec24005c9534f62'), 'text': 'salt', 'class': ['AG.01.l.01', 'AG.01.w']}]\n",
      "[{'_id': ObjectId('5ebcd38f1ec24005c95357b4'), 'text': 'freshly ground black pepper', 'class': ['AG.01.t.05', 'AG.01.l.03']}]\n",
      "[{'_id': ObjectId('5ebcd38f1ec24005c9537b4b'), 'text': 'sliced mushrooms', 'class': ['AG.01.h.02.h', 'AG.01.t.05']}]\n",
      "[{'_id': ObjectId('5ebcd38f1ec24005c9534f43'), 'text': 'onion', 'class': ['AG.01.h.02.e']}]\n",
      "[{'_id': ObjectId('5ebcd38f1ec24005c953501f'), 'text': 'butter', 'class': ['AG.01.e.01', 'AG.01.n']}]\n",
      "[{'_id': ObjectId('5ebcd38f1ec24005c9534f41'), 'text': 'beef', 'class': ['AG.01.d.03']}]\n",
      "[{'_id': ObjectId('5ebcd38f1ec24005c9534f50'), 'text': 'water', 'class': ['AG.01.z']}]\n",
      "[{'_id': ObjectId('5ebcd38f1ec24005c953557f'), 'text': 'cornstarch', 'class': ['AG.01']}]\n",
      "\n",
      "\n",
      "\n",
      "INDEX: 25\n",
      "['1 cup rolled oats', '1/2 cup molasses', '1/3 cup vegetable oil', '1 teaspoon salt', '1 1/2 cups boiling water', '2 tablespoons active dry yeast', '1/2 cup lukewarm water (100 degrees F/38 degrees C)', '1 cup whole wheat flour', '5 cups bread flour', '2 eggs']\n",
      "[{'_id': ObjectId('5ebcd38f1ec24005c9535c43'), 'text': 'rolled oats', 'class': ['AG.01.i']}]\n",
      "[{'_id': ObjectId('5ebcd38f1ec24005c95353e7'), 'text': 'molasses', 'class': ['AG.01']}]\n",
      "[{'_id': ObjectId('5ebcd38f1ec24005c9534f72'), 'text': 'vegetable oil', 'class': ['AG.01.f']}]\n",
      "[{'_id': ObjectId('5ebcd38f1ec24005c9534f62'), 'text': 'salt', 'class': ['AG.01.l.01', 'AG.01.w']}]\n",
      "[{'_id': ObjectId('5ebcd38f1ec24005c9535009'), 'text': 'boiling water', 'class': ['AG.01.z']}]\n",
      "[{'_id': ObjectId('5ebcd38f1ec24005c9535911'), 'text': 'yeast', 'class': ['AG.01.ae.03', 'AG.01.m']}]\n",
      "[{'_id': ObjectId('5ebcd38f1ec24005c953812e'), 'text': 'lukewarm water', 'class': ['AG.01.z']}]\n",
      "[{'_id': ObjectId('5ebcd38f1ec24005c95359fb'), 'text': 'whole wheat flour', 'class': ['AG.01.e', 'AG.01.i', 'AG.01.j', 'AG.01.k']}]\n",
      "[{'_id': ObjectId('5ebcd38f1ec24005c95351d1'), 'text': 'bread', 'class': ['AG.01.n.11']}]\n",
      "[{'_id': ObjectId('5ebcd38f1ec24005c9534fae'), 'text': 'eggs', 'class': ['AG.01.g']}]\n",
      "\n",
      "\n",
      "\n",
      "INDEX: 26\n",
      "['1 (4 pound) whole duck, rinsed', '1 teaspoon chopped fresh basil leaves', '1 teaspoon chopped fresh ginger root', '1 teaspoon salt', '1/2 orange, quartered', '2 cups water', '1 cup honey', '1/2 cup butter', '1 teaspoon lemon juice', '1/2 cup undiluted, thawed orange juice concentrate']\n",
      "[{'_id': ObjectId('5ebcd38f1ec24005c9536ef1'), 'text': 'rind', 'class': ['AG.01.d.05']}]\n",
      "[{'_id': ObjectId('5ebcd38f1ec24005c9537cae'), 'text': 'fresh basil', 'class': ['AG.01', 'AG.01.z']}]\n",
      "[{'_id': ObjectId('5ebcd38f1ec24005c9535061'), 'text': 'ginger', 'class': ['AG.01.l.03']}]\n",
      "[{'_id': ObjectId('5ebcd38f1ec24005c9534f62'), 'text': 'salt', 'class': ['AG.01.l.01', 'AG.01.w']}]\n",
      "[{'_id': ObjectId('5ebcd38f1ec24005c9535ab1'), 'text': 'orange', 'class': ['AG.01.ab', 'AG.01.h.01.a']}]\n",
      "[{'_id': ObjectId('5ebcd38f1ec24005c9534f50'), 'text': 'water', 'class': ['AG.01.z']}]\n",
      "[{'_id': ObjectId('5ebcd38f1ec24005c9534f66'), 'text': 'honey', 'class': ['AG.01.l.02']}]\n",
      "[{'_id': ObjectId('5ebcd38f1ec24005c953501f'), 'text': 'butter', 'class': ['AG.01.e.01', 'AG.01.n']}]\n",
      "[{'_id': ObjectId('5ebcd38f1ec24005c9534f65'), 'text': 'lemon juice', 'class': ['AG.01.ab', 'AG.01.h.01.a', 'AG.01.l.02']}]\n",
      "[{'_id': ObjectId('5ebcd38f1ec24005c9535ab1'), 'text': 'orange', 'class': ['AG.01.ab', 'AG.01.h.01.a']}]\n",
      "\n",
      "\n",
      "\n",
      "INDEX: 27\n",
      "['2 1/2 cups all-purpose flour', '1 teaspoon baking soda', '1 teaspoon ground cinnamon', '1 teaspoon salt', '1/2 cup packed brown sugar', '1 cup buttermilk', '1 egg', '1 teaspoon vanilla extract', '2 1/2 cups chopped fresh rhubarb', '1/2 cup chopped walnuts', '1/2 cup white sugar', '2 tablespoons butter, softened']\n",
      "[{'_id': ObjectId('5ebcd38f1ec24005c95359fa'), 'text': 'all-purpose flour', 'class': ['AG.01.k', 'AG.01.j']}]\n",
      "[{'_id': ObjectId('5ebcd38f1ec24005c953517c'), 'text': 'baking soda', 'class': ['AG.01.aa', 'AG.01.m']}]\n",
      "[{'_id': ObjectId('5ebcd38f1ec24005c9536cc5'), 'text': 'ground cinnamon', 'class': ['AG.01.l.03']}]\n",
      "[{'_id': ObjectId('5ebcd38f1ec24005c9534f62'), 'text': 'salt', 'class': ['AG.01.l.01', 'AG.01.w']}]\n",
      "[{'_id': ObjectId('5ebcd38f1ec24005c95356f1'), 'text': 'pancake', 'class': ['AG.01.n.12']}]\n",
      "[{'_id': ObjectId('5ebcd38f1ec24005c953597a'), 'text': 'buttermilk', 'class': ['AG.01.e']}]\n",
      "[{'_id': ObjectId('5ebcd38f1ec24005c9534fe3'), 'text': 'egg', 'class': ['AG.01.g']}]\n",
      "[{'_id': ObjectId('5ebcd38f1ec24005c9534fb0'), 'text': 'vanilla extract', 'class': ['AF.12']}]\n",
      "[{'_id': ObjectId('5ebcd38f1ec24005c95365ed'), 'text': 'rhubarb', 'class': ['AG.01.h.02.b']}]\n",
      "[{'_id': ObjectId('5ebcd38f1ec24005c953566b'), 'text': 'chopped walnuts', 'class': ['AG.01.h.01.f']}]\n"
     ]
    },
    {
     "name": "stdout",
     "output_type": "stream",
     "text": [
      "[{'_id': ObjectId('5ebcd38f1ec24005c9534fb3'), 'text': 'white sugar', 'class': ['AG.01.l.02']}]\n",
      "[{'_id': ObjectId('5ebcd38f1ec24005c953501f'), 'text': 'butter', 'class': ['AG.01.e.01', 'AG.01.n']}]\n",
      "\n",
      "\n",
      "\n",
      "INDEX: 28\n",
      "['8 ounces cream cheese', '3 ounces dried beef', '2 green onions, chopped', '1/4 teaspoon onion salt', '1 1/4 teaspoons monosodium glutamate (MSG)', '1 tablespoon Worcestershire sauce']\n",
      "[{'_id': ObjectId('5ebcd38f1ec24005c9534f40'), 'text': 'cream cheese', 'class': ['AG.01.e', 'AG.01.e.02', 'AG.01.n', 'AG.01.n.18']}]\n",
      "[{'_id': ObjectId('5ebcd38f1ec24005c953543c'), 'text': 'dried beef', 'class': ['AG.01.d.03']}]\n",
      "[{'_id': ObjectId('5ebcd38f1ec24005c9534fc6'), 'text': 'green onions', 'class': ['AG.01.h.02.e']}]\n",
      "[{'_id': ObjectId('5ebcd38f1ec24005c9534f43'), 'text': 'onion', 'class': ['AG.01.h.02.e']}]\n",
      "[{'_id': ObjectId('5ebcd38f1ec24005c95354c7'), 'text': 'monosodium glutamate', 'class': ['AG.01.l']}]\n",
      "[{'_id': ObjectId('5ebcd38f1ec24005c9534f44'), 'text': 'worcestershire sauce', 'class': ['AG.01.h', 'AG.01.l.04']}]\n",
      "\n",
      "\n",
      "\n",
      "INDEX: 29\n",
      "['3 cups all-purpose flour', '2 cups white sugar', '1 teaspoon ground cinnamon', '1 teaspoon salt', '1 teaspoon baking soda', '4 eggs', '1 1/4 cups vegetable oil', '1 cup chopped pecans', '1 (10 ounce) package frozen strawberries, thawed']\n",
      "[{'_id': ObjectId('5ebcd38f1ec24005c95359fa'), 'text': 'all-purpose flour', 'class': ['AG.01.k', 'AG.01.j']}]\n",
      "[{'_id': ObjectId('5ebcd38f1ec24005c9534fb3'), 'text': 'white sugar', 'class': ['AG.01.l.02']}]\n",
      "[{'_id': ObjectId('5ebcd38f1ec24005c9536cc5'), 'text': 'ground cinnamon', 'class': ['AG.01.l.03']}]\n",
      "[{'_id': ObjectId('5ebcd38f1ec24005c9534f62'), 'text': 'salt', 'class': ['AG.01.l.01', 'AG.01.w']}]\n",
      "[{'_id': ObjectId('5ebcd38f1ec24005c953517c'), 'text': 'baking soda', 'class': ['AG.01.aa', 'AG.01.m']}]\n",
      "[{'_id': ObjectId('5ebcd38f1ec24005c9534fae'), 'text': 'eggs', 'class': ['AG.01.g']}]\n",
      "[{'_id': ObjectId('5ebcd38f1ec24005c9534f72'), 'text': 'vegetable oil', 'class': ['AG.01.f']}]\n",
      "[{'_id': ObjectId('5ebcd38f1ec24005c9535444'), 'text': 'chopped pecans', 'class': ['AG.01.h.01.f']}]\n",
      "[{'_id': ObjectId('5ebcd38f1ec24005c9536f1a'), 'text': 'frozen strawberries', 'class': ['AG.01.h.01.b', 'AG.01.t.06']}]\n",
      "\n",
      "\n",
      "\n"
     ]
    }
   ],
   "source": [
    "for i in range(15, 30):\n",
    "    test = exs_recipes[i]['data']['ingredients']\n",
    "    print(\"INDEX: %d\"%i)\n",
    "    print(test)\n",
    "    list(map(lambda x: match_ingredient(x), test))\n",
    "    print(\"\\n\\n\")"
   ]
  },
  {
   "cell_type": "code",
   "execution_count": 197,
   "metadata": {},
   "outputs": [
    {
     "data": {
      "text/plain": [
       "['1/2 cup Parmesan cheese',\n",
       " '3/4 teaspoon ground black pepper',\n",
       " '1/2 teaspoon garlic powder',\n",
       " '1 (17.5 ounce) package frozen puff pastry, thawed',\n",
       " '1 egg white']"
      ]
     },
     "execution_count": 197,
     "metadata": {},
     "output_type": "execute_result"
    }
   ],
   "source": [
    "test"
   ]
  },
  {
   "cell_type": "code",
   "execution_count": 196,
   "metadata": {},
   "outputs": [
    {
     "name": "stdout",
     "output_type": "stream",
     "text": [
      "[{'_id': ObjectId('5ebcd38f1ec24005c9534f4b'), 'text': 'parmesan cheese', 'class': ['AG.01.e.02', 'AG.01.n.18']}]\n",
      "[{'_id': ObjectId('5ebcd38f1ec24005c9535356'), 'text': 'ground black pepper', 'class': ['AG.01']}]\n",
      "[{'_id': ObjectId('5ebcd38f1ec24005c9534ff3'), 'text': 'garlic powder', 'class': ['AG.01.h.02.e']}]\n",
      "[{'_id': ObjectId('5ebcd38f1ec24005c9536a5f'), 'text': 'puff pastry', 'class': ['AG.01.n.15']}]\n",
      "[{'_id': ObjectId('5ebcd38f1ec24005c95352e2'), 'text': 'extra egg white mixture', 'class': ['AG.01.g']}]\n"
     ]
    },
    {
     "data": {
      "text/plain": [
       "[None, None, None, None, None]"
      ]
     },
     "execution_count": 196,
     "metadata": {},
     "output_type": "execute_result"
    }
   ],
   "source": [
    "test = exs_recipes[2]['data']['ingredients']\n",
    "test\n",
    "list(map(lambda x: match_ingredient(x), test))"
   ]
  },
  {
   "cell_type": "code",
   "execution_count": 182,
   "metadata": {},
   "outputs": [],
   "source": [
    "bug = exs_recipes[12]['data']['ingredients']"
   ]
  },
  {
   "cell_type": "code",
   "execution_count": 183,
   "metadata": {},
   "outputs": [
    {
     "name": "stdout",
     "output_type": "stream",
     "text": [
      "[{'_id': ObjectId('5ebcd38f1ec24005c9535452'), 'text': 'bread rounds', 'class': ['AG.01.n.11']}]\n",
      "[{'_id': ObjectId('5ebcd38f1ec24005c9536ce8'), 'text': 'ounce coffee', 'class': ['AG.01.ad', 'AG.01.ag']}]\n",
      "[{'_id': ObjectId('5ebcd38f1ec24005c9536ce8'), 'text': 'ounce coffee', 'class': ['AG.01.ad', 'AG.01.ag']}]\n",
      "[{'_id': ObjectId('5ebcd38f1ec24005c9536620'), 'text': 'warm water', 'class': ['AG.01.z']}]\n",
      "[{'_id': ObjectId('5ebcd38f1ec24005c9536ce8'), 'text': 'ounce coffee', 'class': ['AG.01.ad', 'AG.01.ag']}]\n",
      "[{'_id': ObjectId('5ebcd38f1ec24005c9534f69'), 'text': 'olive oil', 'class': ['AG.01.f']}]\n",
      "[{'_id': ObjectId('5ebcd38f1ec24005c9537933'), 'text': 'clove garlic', 'class': ['AG.01.h.02.e', 'AG.01.l.03']}]\n",
      "[{'_id': ObjectId('5ebcd38f1ec24005c9536ce8'), 'text': 'ounce coffee', 'class': ['AG.01.ad', 'AG.01.ag']}]\n",
      "[{'_id': ObjectId('5ebcd38f1ec24005c9534f62'), 'text': 'salt', 'class': ['AG.01.l.01', 'AG.01.w']}]\n",
      "[{'_id': ObjectId('5ebcd38f1ec24005c953699d'), 'text': 'coffee cup cake mixes', 'class': ['AG.01.ad', 'AG.01.ag', 'AG.01.ak.02.a', 'AG.01.n.13', 'AG.01.y.01.a']}]\n",
      "[{'_id': ObjectId('5ebcd38f1ec24005c95351bd'), 'text': 'shredded cheese', 'class': ['AG.01.e.02', 'AG.01.n.18']}]\n",
      "[{'_id': ObjectId('5ebcd38f1ec24005c9537b56'), 'text': 'grated parmesan cheese', 'class': ['AG.01.e.02', 'AG.01.n.18']}]\n",
      "[{'_id': ObjectId('5ebcd38f1ec24005c9538015'), 'text': 'chopped parsley', 'class': ['AG.01.h.02.i']}]\n"
     ]
    },
    {
     "data": {
      "text/plain": [
       "[None, None, None, None, None, None, None, None, None, None, None, None, None]"
      ]
     },
     "execution_count": 183,
     "metadata": {},
     "output_type": "execute_result"
    }
   ],
   "source": [
    "list(map(lambda x: match_ingredient(x), bug))"
   ]
  },
  {
   "cell_type": "code",
   "execution_count": 187,
   "metadata": {},
   "outputs": [],
   "source": [
    "bug1 = exs_recipes[25]['data']['ingredients']"
   ]
  },
  {
   "cell_type": "code",
   "execution_count": null,
   "metadata": {},
   "outputs": [],
   "source": []
  }
 ],
 "metadata": {
  "kernelspec": {
   "display_name": "Python 3.7.3 64-bit ('venv': virtualenv)",
   "language": "python",
   "name": "python37364bitvenvvirtualenvc18265ac378e436698ba4d0b09e1ee14"
  },
  "language_info": {
   "codemirror_mode": {
    "name": "ipython",
    "version": 3
   },
   "file_extension": ".py",
   "mimetype": "text/x-python",
   "name": "python",
   "nbconvert_exporter": "python",
   "pygments_lexer": "ipython3",
   "version": "3.7.3"
  }
 },
 "nbformat": 4,
 "nbformat_minor": 4
}
