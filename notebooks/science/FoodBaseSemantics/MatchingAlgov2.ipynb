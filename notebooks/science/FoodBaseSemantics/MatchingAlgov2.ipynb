{
 "cells": [
  {
   "cell_type": "code",
   "execution_count": 181,
   "metadata": {},
   "outputs": [
    {
     "data": {
      "text/plain": [
       "'\\nTODO:\\n'"
      ]
     },
     "execution_count": 181,
     "metadata": {},
     "output_type": "execute_result"
    }
   ],
   "source": [
    "\"\"\"\n",
    "TODO:\n",
    "look into ounce coffee bug below, as well as matching things like bread flour\n",
    "look into coffee cup cake mixes bug\n",
    "\"\"\""
   ]
  },
  {
   "cell_type": "code",
   "execution_count": 1,
   "metadata": {},
   "outputs": [],
   "source": [
    "import sys\n",
    "sys.path.insert(0, \"/Users/artur/workspace/recipedb\")"
   ]
  },
  {
   "cell_type": "code",
   "execution_count": 82,
   "metadata": {},
   "outputs": [],
   "source": [
    "from recipedb.db import get_db\n",
    "import pandas as pd\n",
    "import functools\n",
    "import numpy as np\n",
    "import re\n",
    "from fuzzywuzzy import fuzz"
   ]
  },
  {
   "cell_type": "code",
   "execution_count": 13,
   "metadata": {},
   "outputs": [],
   "source": [
    "word_pattern = re.compile(r'\\w+')"
   ]
  },
  {
   "cell_type": "code",
   "execution_count": 3,
   "metadata": {},
   "outputs": [],
   "source": [
    "db = get_db()"
   ]
  },
  {
   "cell_type": "code",
   "execution_count": 4,
   "metadata": {},
   "outputs": [],
   "source": [
    "food_terms = list(db.FoodTerms.find())"
   ]
  },
  {
   "cell_type": "code",
   "execution_count": 143,
   "metadata": {},
   "outputs": [],
   "source": [
    "exs = db.allrecipes.find({\"error\":{\"$eq\":None}})\n",
    "NUM_EXAMPLES = 100\n",
    "exs_recipes = list(map(lambda x: next(exs), range(NUM_EXAMPLES))) # grab the next NUM_EXAMPLES from cursor above"
   ]
  },
  {
   "cell_type": "code",
   "execution_count": 188,
   "metadata": {},
   "outputs": [],
   "source": [
    "THRESHOLD = 60\n",
    "def intersection(lst1, lst2): \n",
    "    return list(set(lst1) & set(lst2)) \n",
    "\n",
    "def match_ingredient(raw_ingred_text):\n",
    "    terms = word_pattern.findall(raw_ingred_text)\n",
    "    matches = []\n",
    "    for term in terms:\n",
    "        potential_matches = []\n",
    "        potential_ratios = []\n",
    "        for other_term in food_terms:\n",
    "            ratio = fuzz.ratio(term, other_term['term'])\n",
    "            potential_matches.append(other_term)\n",
    "            potential_ratios.append(ratio)\n",
    "        max_val = max(potential_ratios)\n",
    "        max_matches = []\n",
    "        if max_val < THRESHOLD:\n",
    "            continue # change this later\n",
    "        for i in range(len(potential_ratios)):\n",
    "            if potential_ratios[i] == max_val:\n",
    "                max_matches.append(potential_matches[i])\n",
    "        matches.append(max_matches)\n",
    "    match_dict = {}\n",
    "    for match in list(map(lambda x: x['foodbase_id'], functools.reduce(lambda x,y: x+y, matches))):\n",
    "        if match not in match_dict:\n",
    "            match_dict[match] = 1\n",
    "        else:\n",
    "            match_dict[match] += 1\n",
    "    max_val = 0\n",
    "    final_match = None\n",
    "    for match in match_dict:\n",
    "        if match_dict[match] > max_val:\n",
    "            final_match = match\n",
    "            max_val = match_dict[match]\n",
    "    final_match = list(db.FoodBase.find({\"_id\": final_match}))\n",
    "    print(final_match)\n",
    "        "
   ]
  },
  {
   "cell_type": "code",
   "execution_count": 193,
   "metadata": {},
   "outputs": [
    {
     "name": "stdout",
     "output_type": "stream",
     "text": [
      "INDEX: 0\n",
      "['1 pound ground beef', '1 (16 ounce) can diced tomatoes', '1 (15 ounce) can whole kernel corn', '1 (15 ounce) can kidney beans, drained', '1 teaspoon garlic powder', 'salt to taste', 'ground black pepper to taste', '1 (16 ounce) package macaroni', '1 (8 ounce) container sour cream', '2 cups shredded Cheddar cheese']\n",
      "[{'_id': ObjectId('5ebcd38f1ec24005c9534fe8'), 'text': 'ground beef', 'class': ['AG.01.d.03']}]\n",
      "[{'_id': ObjectId('5ebcd38f1ec24005c953564d'), 'text': 'diced tomatoes', 'class': ['AG.01.h.02.f', 'AG.01.t.05']}]\n",
      "[{'_id': ObjectId('5ebcd38f1ec24005c953562b'), 'text': 'corn kernels', 'class': ['AG.01.i']}]\n",
      "[{'_id': ObjectId('5ebcd38f1ec24005c9537c0e'), 'text': 'kidney beans', 'class': ['AG.01.d.02']}]\n",
      "[{'_id': ObjectId('5ebcd38f1ec24005c9534ff3'), 'text': 'garlic powder', 'class': ['AG.01.h.02.e']}]\n",
      "[{'_id': ObjectId('5ebcd38f1ec24005c9534f62'), 'text': 'salt', 'class': ['AG.01.l.01', 'AG.01.w']}]\n",
      "[{'_id': ObjectId('5ebcd38f1ec24005c9535356'), 'text': 'ground black pepper', 'class': ['AG.01']}]\n",
      "[{'_id': ObjectId('5ebcd38f1ec24005c9536ce8'), 'text': 'ounce coffee', 'class': ['AG.01.ad', 'AG.01.ag']}]\n",
      "[{'_id': ObjectId('5ebcd38f1ec24005c9534ff0'), 'text': 'sour cream', 'class': ['AG.01.e', 'AG.01.n']}]\n",
      "[{'_id': ObjectId('5ebcd38f1ec24005c95353be'), 'text': 'shredded cheddar cheese', 'class': ['AG.01.e.02', 'AG.01.n.18']}]\n",
      "\n",
      "\n",
      "\n",
      "INDEX: 1\n",
      "['2 cups uncooked long-grain white rice', '1 large onion, chopped', '1/2 cup chopped fresh dill', '1/2 cup chopped fresh mint leaves', '2 quarts chicken broth', '3/4 cup fresh lemon juice, divided', '60 grape leaves, drained and rinsed', 'hot water as needed', '1 cup olive oil']\n",
      "[{'_id': ObjectId('5ebcd38f1ec24005c953795a'), 'text': 'cooked rice', 'class': ['AG.01.i', 'AG.01.t.07']}]\n",
      "[{'_id': ObjectId('5ebcd38f1ec24005c9535026'), 'text': 'chopped onion', 'class': ['AG.01.h.02.e']}]\n",
      "[{'_id': ObjectId('5ebcd38f1ec24005c9537861'), 'text': 'chopped dill', 'class': ['AG.01.h.02.i']}]\n",
      "[{'_id': ObjectId('5ebcd38f1ec24005c9536f34'), 'text': 'fresh mint', 'class': ['AG.01', 'AG.01.h.02.i', 'AG.01.z']}]\n",
      "[{'_id': ObjectId('5ebcd38f1ec24005c953572a'), 'text': 'chicken broth', 'class': ['AG.01.d.06', 'AG.01.m', 'AG.01.n.02']}]\n",
      "[{'_id': ObjectId('5ebcd38f1ec24005c953798d'), 'text': 'fresh lemon juice', 'class': ['AG.01.ab', 'AG.01', 'AG.01.h.01.a', 'AG.01.l.02', 'AG.01.z']}]\n",
      "[{'_id': ObjectId('5ebcd38f1ec24005c9534f9f'), 'text': 'grape leaves', 'class': ['AG.01.h.01.b', 'AF.10.e']}]\n",
      "[{'_id': ObjectId('5ebcd38f1ec24005c953520a'), 'text': 'hot water', 'class': ['AG.01.z', 'AG.01']}]\n",
      "[{'_id': ObjectId('5ebcd38f1ec24005c9534f69'), 'text': 'olive oil', 'class': ['AG.01.f']}]\n",
      "\n",
      "\n",
      "\n",
      "INDEX: 2\n",
      "['1/2 cup Parmesan cheese', '3/4 teaspoon ground black pepper', '1/2 teaspoon garlic powder', '1 (17.5 ounce) package frozen puff pastry, thawed', '1 egg white']\n",
      "[{'_id': ObjectId('5ebcd38f1ec24005c9534f4b'), 'text': 'parmesan cheese', 'class': ['AG.01.e.02', 'AG.01.n.18']}]\n",
      "[{'_id': ObjectId('5ebcd38f1ec24005c9535356'), 'text': 'ground black pepper', 'class': ['AG.01']}]\n",
      "[{'_id': ObjectId('5ebcd38f1ec24005c9534ff3'), 'text': 'garlic powder', 'class': ['AG.01.h.02.e']}]\n",
      "[{'_id': ObjectId('5ebcd38f1ec24005c9536a5f'), 'text': 'puff pastry', 'class': ['AG.01.n.15']}]\n",
      "[{'_id': ObjectId('5ebcd38f1ec24005c95352e2'), 'text': 'extra egg white mixture', 'class': ['AG.01.g']}]\n",
      "\n",
      "\n",
      "\n",
      "INDEX: 3\n",
      "['2 pounds top round steak, trimmed', '2 tablespoons vegetable oil', '1 onion, chopped', '2 stalks celery, chopped', '1 clove garlic, minced', '1 (10.75 ounce) can condensed cream of mushroom soup', '1 (12 fluid ounce) can or bottle beer', '2 bay leaves', '2 whole cloves']\n",
      "[{'_id': ObjectId('5ebcd38f1ec24005c9537e95'), 'text': 'fried steak', 'class': ['AG.01.d', 'AG.01.d.07', 'AG.01.t.07']}]\n",
      "[{'_id': ObjectId('5ebcd38f1ec24005c9534f72'), 'text': 'vegetable oil', 'class': ['AG.01.f']}]\n",
      "[{'_id': ObjectId('5ebcd38f1ec24005c9535026'), 'text': 'chopped onion', 'class': ['AG.01.h.02.e']}]\n",
      "[{'_id': ObjectId('5ebcd38f1ec24005c953624c'), 'text': 'celery stalk', 'class': ['AG.01.h.02.b']}]\n",
      "[{'_id': ObjectId('5ebcd38f1ec24005c9537933'), 'text': 'clove garlic', 'class': ['AG.01.h.02.e', 'AG.01.l.03']}]\n",
      "[{'_id': ObjectId('5ebcd38f1ec24005c9537bab'), 'text': 'condensed mushroom soup', 'class': ['AG.01.h.02.h', 'AG.01.n.02']}]\n",
      "[{'_id': ObjectId('5ebcd38f1ec24005c9534fa8'), 'text': 'liquid mixture', 'class': ['AG.01']}]\n",
      "[{'_id': ObjectId('5ebcd38f1ec24005c9537d8b'), 'text': 'bay leaves', 'class': ['AF.13']}]\n",
      "[{'_id': ObjectId('5ebcd38f1ec24005c9535701'), 'text': 'whole cloves', 'class': ['AG.01.h.02.e', 'AG.01.l.03']}]\n",
      "\n",
      "\n",
      "\n",
      "INDEX: 4\n",
      "['1 1/2 pounds lean ground beef', '2 onions, chopped', '2 cloves garlic, minced', '1 (6 ounce) can tomato paste', '2 1/4 cups water', '1 (14.5 ounce) can peeled and diced tomatoes', '1/3 cup dried parsley', '1 teaspoon dried thyme', '1 teaspoon dried oregano', '1 teaspoon dried basil', '1 eggplant', '1 onion, sliced', '1/2 cup dry bread crumbs', '1 cup grated Parmesan cheese']\n",
      "[{'_id': ObjectId('5ebcd38f1ec24005c9534fe8'), 'text': 'ground beef', 'class': ['AG.01.d.03']}]\n",
      "[{'_id': ObjectId('5ebcd38f1ec24005c95377f6'), 'text': 'chopped green onions', 'class': ['AG.01.h.02.e']}]\n",
      "[{'_id': ObjectId('5ebcd38f1ec24005c95355aa'), 'text': 'garlic cloves', 'class': ['AG.01.h.02.e', 'AG.01.l.03']}]\n",
      "[{'_id': ObjectId('5ebcd38f1ec24005c9535287'), 'text': 'tomato paste', 'class': ['AG.01.h.02.f', 'AG.01.l', 'AG.01.n.17']}]\n",
      "[{'_id': ObjectId('5ebcd38f1ec24005c953699d'), 'text': 'coffee cup cake mixes', 'class': ['AG.01.ad', 'AG.01.ag', 'AG.01.ak.02.a', 'AG.01.n.13', 'AG.01.y.01.a']}]\n",
      "[{'_id': ObjectId('5ebcd38f1ec24005c953564d'), 'text': 'diced tomatoes', 'class': ['AG.01.h.02.f', 'AG.01.t.05']}]\n",
      "[{'_id': ObjectId('5ebcd38f1ec24005c953699d'), 'text': 'coffee cup cake mixes', 'class': ['AG.01.ad', 'AG.01.ag', 'AG.01.ak.02.a', 'AG.01.n.13', 'AG.01.y.01.a']}]\n",
      "[{'_id': ObjectId('5ebcd38f1ec24005c95352db'), 'text': 'dried thyme', 'class': ['AG.01.h.02.i']}]\n",
      "[{'_id': ObjectId('5ebcd38f1ec24005c95352ec'), 'text': 'seasoned bread crumbs', 'class': ['AG.01.n.11', 'AG.01.t.05']}]\n",
      "[{'_id': ObjectId('5ebcd38f1ec24005c95352ec'), 'text': 'seasoned bread crumbs', 'class': ['AG.01.n.11', 'AG.01.t.05']}]\n",
      "[{'_id': ObjectId('5ebcd38f1ec24005c95354d5'), 'text': 'eggplant', 'class': ['AG.01']}]\n",
      "[{'_id': ObjectId('5ebcd38f1ec24005c9534f43'), 'text': 'onion', 'class': ['AG.01.h.02.e']}]\n",
      "[{'_id': ObjectId('5ebcd38f1ec24005c9534fdc'), 'text': 'bread crumbs', 'class': ['AG.01.n.11']}]\n",
      "[{'_id': ObjectId('5ebcd38f1ec24005c9537b56'), 'text': 'grated parmesan cheese', 'class': ['AG.01.e.02', 'AG.01.n.18']}]\n",
      "\n",
      "\n",
      "\n",
      "INDEX: 5\n",
      "['1/2 cup unsalted butter, chilled and cubed', '1 cup chopped onion', '1 3/4 cups cornmeal', '1 1/4 cups all-purpose flour', '1/4 cup white sugar', '1 tablespoon baking powder', '1 1/2 teaspoons salt', '1/2 teaspoon baking soda', '1 1/2 cups buttermilk', '3 eggs', '1 1/2 cups shredded pepperjack cheese', '1 1/3 cups frozen corn kernels, thawed and drained', '2 ounces roasted marinated red bell peppers, drained and chopped', '1/2 cup chopped fresh basil']\n",
      "[{'_id': ObjectId('5ebcd38f1ec24005c9536c60'), 'text': 'candy-coated peanut butter pieces', 'class': ['AG.01.h.01.f', 'AG.01.e.01', 'AG.01.n', 'AG.01.n.11']}]\n",
      "[{'_id': ObjectId('5ebcd38f1ec24005c9535026'), 'text': 'chopped onion', 'class': ['AG.01.h.02.e']}]\n",
      "[{'_id': ObjectId('5ebcd38f1ec24005c953699d'), 'text': 'coffee cup cake mixes', 'class': ['AG.01.ad', 'AG.01.ag', 'AG.01.ak.02.a', 'AG.01.n.13', 'AG.01.y.01.a']}]\n",
      "[{'_id': ObjectId('5ebcd38f1ec24005c95359fa'), 'text': 'all-purpose flour', 'class': ['AG.01.k', 'AG.01.j']}]\n",
      "[{'_id': ObjectId('5ebcd38f1ec24005c9534fb3'), 'text': 'white sugar', 'class': ['AG.01.l.02']}]\n",
      "[{'_id': ObjectId('5ebcd38f1ec24005c95350f3'), 'text': 'baking powder', 'class': ['AG.01']}]\n",
      "[{'_id': ObjectId('5ebcd38f1ec24005c95352d1'), 'text': 'seasonings', 'class': ['AG.01.l', 'AG.01.t.05']}]\n",
      "[{'_id': ObjectId('5ebcd38f1ec24005c953517c'), 'text': 'baking soda', 'class': ['AG.01.aa', 'AG.01.m']}]\n",
      "[{'_id': ObjectId('5ebcd38f1ec24005c953699d'), 'text': 'coffee cup cake mixes', 'class': ['AG.01.ad', 'AG.01.ag', 'AG.01.ak.02.a', 'AG.01.n.13', 'AG.01.y.01.a']}]\n",
      "[{'_id': ObjectId('5ebcd38f1ec24005c9534faa'), 'text': 'hard cooked eggs', 'class': ['AG.01.g', 'AG.01.t.07']}]\n"
     ]
    },
    {
     "name": "stdout",
     "output_type": "stream",
     "text": [
      "[{'_id': ObjectId('5ebcd38f1ec24005c95351bd'), 'text': 'shredded cheese', 'class': ['AG.01.e.02', 'AG.01.n.18']}]\n",
      "[{'_id': ObjectId('5ebcd38f1ec24005c953562b'), 'text': 'corn kernels', 'class': ['AG.01.i']}]\n",
      "[{'_id': ObjectId('5ebcd38f1ec24005c9537cc6'), 'text': 'roasted red peppers', 'class': ['AG.01.ag', 'AG.01.l.03', 'AG.01.t.07']}]\n",
      "[{'_id': ObjectId('5ebcd38f1ec24005c9537cae'), 'text': 'fresh basil', 'class': ['AG.01', 'AG.01.z']}]\n",
      "\n",
      "\n",
      "\n",
      "INDEX: 6\n",
      "[\"1 cup sifted confectioners' sugar\", '1/4 teaspoon salt', '1/2 teaspoon vanilla extract', '1 tablespoon water', '2 drops orange food coloring', '2 drops green food coloring']\n",
      "[{'_id': ObjectId('5ebcd38f1ec24005c9535e5a'), 'text': \"confectioners ' sugar\", 'class': ['AG.01.l.02', 'AG.01.t.05', 'AG.01.t.07']}]\n",
      "[{'_id': ObjectId('5ebcd38f1ec24005c95354bc'), 'text': 'seasoned salt', 'class': ['AG.01.l.01', 'AG.01.t.05', 'AG.01.w']}]\n",
      "[{'_id': ObjectId('5ebcd38f1ec24005c9534fb0'), 'text': 'vanilla extract', 'class': ['AF.12']}]\n",
      "[{'_id': ObjectId('5ebcd38f1ec24005c953523d'), 'text': 'raw vegetables', 'class': ['AG.01.t.07']}]\n",
      "[{'_id': ObjectId('5ebcd38f1ec24005c95364a4'), 'text': 'green food coloring', 'class': ['AG.01', 'AG.01.o']}]\n",
      "[{'_id': ObjectId('5ebcd38f1ec24005c95364a4'), 'text': 'green food coloring', 'class': ['AG.01', 'AG.01.o']}]\n",
      "\n",
      "\n",
      "\n",
      "INDEX: 7\n",
      "['1 1/2 pounds lean ground beef', '1/2 onion, chopped', '4 cups frozen mixed vegetables', '1 (19 ounce) can cream of chicken soup', '1 (32 ounce) package frozen potato rounds']\n",
      "[{'_id': ObjectId('5ebcd38f1ec24005c9534fe8'), 'text': 'ground beef', 'class': ['AG.01.d.03']}]\n",
      "[{'_id': ObjectId('5ebcd38f1ec24005c9535026'), 'text': 'chopped onion', 'class': ['AG.01.h.02.e']}]\n",
      "[{'_id': ObjectId('5ebcd38f1ec24005c9537ac9'), 'text': 'mixed vegetables', 'class': ['AF.02.a']}]\n",
      "[{'_id': ObjectId('5ebcd38f1ec24005c9535a1a'), 'text': 'chicken soup', 'class': ['AG.01.d.06', 'AG.01.n.02']}]\n",
      "[{'_id': ObjectId('5ebcd38f1ec24005c9536ce8'), 'text': 'ounce coffee', 'class': ['AG.01.ad', 'AG.01.ag']}]\n",
      "\n",
      "\n",
      "\n",
      "INDEX: 8\n",
      "['2 cups hot water', '1/2 cup margarine', '1/3 cup white sugar', '2 teaspoons salt', '1/2 cup cold water', '2 (.25 ounce) packages active dry yeast', '5 1/2 cups all-purpose flour', '2 eggs']\n",
      "[{'_id': ObjectId('5ebcd38f1ec24005c953520a'), 'text': 'hot water', 'class': ['AG.01.z', 'AG.01']}]\n",
      "[{'_id': ObjectId('5ebcd38f1ec24005c953699d'), 'text': 'coffee cup cake mixes', 'class': ['AG.01.ad', 'AG.01.ag', 'AG.01.ak.02.a', 'AG.01.n.13', 'AG.01.y.01.a']}]\n",
      "[{'_id': ObjectId('5ebcd38f1ec24005c9534fb3'), 'text': 'white sugar', 'class': ['AG.01.l.02']}]\n",
      "[{'_id': ObjectId('5ebcd38f1ec24005c95352d1'), 'text': 'seasonings', 'class': ['AG.01.l', 'AG.01.t.05']}]\n",
      "[{'_id': ObjectId('5ebcd38f1ec24005c9534f8d'), 'text': 'cold water', 'class': ['AG.01.z']}]\n",
      "[{'_id': ObjectId('5ebcd38f1ec24005c9536ce8'), 'text': 'ounce coffee', 'class': ['AG.01.ad', 'AG.01.ag']}]\n",
      "[{'_id': ObjectId('5ebcd38f1ec24005c95359fa'), 'text': 'all-purpose flour', 'class': ['AG.01.k', 'AG.01.j']}]\n",
      "[{'_id': ObjectId('5ebcd38f1ec24005c9534faa'), 'text': 'hard cooked eggs', 'class': ['AG.01.g', 'AG.01.t.07']}]\n",
      "\n",
      "\n",
      "\n",
      "INDEX: 9\n",
      "['1 1/2 pounds top round, London Broil cut', '1 tablespoon meat tenderizer', '1/3 cup vegetable oil', '2 teaspoons lemon juice', '2 teaspoons seasoning salt', '1/4 teaspoon lemon pepper', '2 cloves garlic, minced', '4 teaspoons chopped fresh parsley', '2 teaspoons tarragon vinegar']\n",
      "[{'_id': ObjectId('5ebcd38f1ec24005c9535452'), 'text': 'bread rounds', 'class': ['AG.01.n.11']}]\n"
     ]
    },
    {
     "ename": "KeyboardInterrupt",
     "evalue": "",
     "output_type": "error",
     "traceback": [
      "\u001b[0;31m---------------------------------------------------------------------------\u001b[0m",
      "\u001b[0;31mKeyboardInterrupt\u001b[0m                         Traceback (most recent call last)",
      "\u001b[0;32m<ipython-input-193-d01032510e13>\u001b[0m in \u001b[0;36m<module>\u001b[0;34m\u001b[0m\n\u001b[1;32m      3\u001b[0m     \u001b[0mprint\u001b[0m\u001b[0;34m(\u001b[0m\u001b[0;34m\"INDEX: %d\"\u001b[0m\u001b[0;34m%\u001b[0m\u001b[0mi\u001b[0m\u001b[0;34m)\u001b[0m\u001b[0;34m\u001b[0m\u001b[0;34m\u001b[0m\u001b[0m\n\u001b[1;32m      4\u001b[0m     \u001b[0mprint\u001b[0m\u001b[0;34m(\u001b[0m\u001b[0mtest\u001b[0m\u001b[0;34m)\u001b[0m\u001b[0;34m\u001b[0m\u001b[0;34m\u001b[0m\u001b[0m\n\u001b[0;32m----> 5\u001b[0;31m     \u001b[0mlist\u001b[0m\u001b[0;34m(\u001b[0m\u001b[0mmap\u001b[0m\u001b[0;34m(\u001b[0m\u001b[0;32mlambda\u001b[0m \u001b[0mx\u001b[0m\u001b[0;34m:\u001b[0m \u001b[0mmatch_ingredient\u001b[0m\u001b[0;34m(\u001b[0m\u001b[0mx\u001b[0m\u001b[0;34m)\u001b[0m\u001b[0;34m,\u001b[0m \u001b[0mtest\u001b[0m\u001b[0;34m)\u001b[0m\u001b[0;34m)\u001b[0m\u001b[0;34m\u001b[0m\u001b[0;34m\u001b[0m\u001b[0m\n\u001b[0m\u001b[1;32m      6\u001b[0m     \u001b[0mprint\u001b[0m\u001b[0;34m(\u001b[0m\u001b[0;34m\"\\n\\n\"\u001b[0m\u001b[0;34m)\u001b[0m\u001b[0;34m\u001b[0m\u001b[0;34m\u001b[0m\u001b[0m\n",
      "\u001b[0;32m<ipython-input-193-d01032510e13>\u001b[0m in \u001b[0;36m<lambda>\u001b[0;34m(x)\u001b[0m\n\u001b[1;32m      3\u001b[0m     \u001b[0mprint\u001b[0m\u001b[0;34m(\u001b[0m\u001b[0;34m\"INDEX: %d\"\u001b[0m\u001b[0;34m%\u001b[0m\u001b[0mi\u001b[0m\u001b[0;34m)\u001b[0m\u001b[0;34m\u001b[0m\u001b[0;34m\u001b[0m\u001b[0m\n\u001b[1;32m      4\u001b[0m     \u001b[0mprint\u001b[0m\u001b[0;34m(\u001b[0m\u001b[0mtest\u001b[0m\u001b[0;34m)\u001b[0m\u001b[0;34m\u001b[0m\u001b[0;34m\u001b[0m\u001b[0m\n\u001b[0;32m----> 5\u001b[0;31m     \u001b[0mlist\u001b[0m\u001b[0;34m(\u001b[0m\u001b[0mmap\u001b[0m\u001b[0;34m(\u001b[0m\u001b[0;32mlambda\u001b[0m \u001b[0mx\u001b[0m\u001b[0;34m:\u001b[0m \u001b[0mmatch_ingredient\u001b[0m\u001b[0;34m(\u001b[0m\u001b[0mx\u001b[0m\u001b[0;34m)\u001b[0m\u001b[0;34m,\u001b[0m \u001b[0mtest\u001b[0m\u001b[0;34m)\u001b[0m\u001b[0;34m)\u001b[0m\u001b[0;34m\u001b[0m\u001b[0;34m\u001b[0m\u001b[0m\n\u001b[0m\u001b[1;32m      6\u001b[0m     \u001b[0mprint\u001b[0m\u001b[0;34m(\u001b[0m\u001b[0;34m\"\\n\\n\"\u001b[0m\u001b[0;34m)\u001b[0m\u001b[0;34m\u001b[0m\u001b[0;34m\u001b[0m\u001b[0m\n",
      "\u001b[0;32m<ipython-input-174-efe56673fab7>\u001b[0m in \u001b[0;36mmatch_ingredient\u001b[0;34m(raw_ingred_text)\u001b[0m\n\u001b[1;32m     10\u001b[0m         \u001b[0mpotential_ratios\u001b[0m \u001b[0;34m=\u001b[0m \u001b[0;34m[\u001b[0m\u001b[0;34m]\u001b[0m\u001b[0;34m\u001b[0m\u001b[0;34m\u001b[0m\u001b[0m\n\u001b[1;32m     11\u001b[0m         \u001b[0;32mfor\u001b[0m \u001b[0mother_term\u001b[0m \u001b[0;32min\u001b[0m \u001b[0mfood_terms\u001b[0m\u001b[0;34m:\u001b[0m\u001b[0;34m\u001b[0m\u001b[0;34m\u001b[0m\u001b[0m\n\u001b[0;32m---> 12\u001b[0;31m             \u001b[0mratio\u001b[0m \u001b[0;34m=\u001b[0m \u001b[0mfuzz\u001b[0m\u001b[0;34m.\u001b[0m\u001b[0mratio\u001b[0m\u001b[0;34m(\u001b[0m\u001b[0mterm\u001b[0m\u001b[0;34m,\u001b[0m \u001b[0mother_term\u001b[0m\u001b[0;34m[\u001b[0m\u001b[0;34m'term'\u001b[0m\u001b[0;34m]\u001b[0m\u001b[0;34m)\u001b[0m\u001b[0;34m\u001b[0m\u001b[0;34m\u001b[0m\u001b[0m\n\u001b[0m\u001b[1;32m     13\u001b[0m             \u001b[0mpotential_matches\u001b[0m\u001b[0;34m.\u001b[0m\u001b[0mappend\u001b[0m\u001b[0;34m(\u001b[0m\u001b[0mother_term\u001b[0m\u001b[0;34m)\u001b[0m\u001b[0;34m\u001b[0m\u001b[0;34m\u001b[0m\u001b[0m\n\u001b[1;32m     14\u001b[0m             \u001b[0mpotential_ratios\u001b[0m\u001b[0;34m.\u001b[0m\u001b[0mappend\u001b[0m\u001b[0;34m(\u001b[0m\u001b[0mratio\u001b[0m\u001b[0;34m)\u001b[0m\u001b[0;34m\u001b[0m\u001b[0;34m\u001b[0m\u001b[0m\n",
      "\u001b[0;32m~/workspace/recipedb/venv/lib/python3.7/site-packages/fuzzywuzzy/utils.py\u001b[0m in \u001b[0;36mdecorator\u001b[0;34m(*args, **kwargs)\u001b[0m\n\u001b[1;32m     32\u001b[0m \u001b[0;34m\u001b[0m\u001b[0m\n\u001b[1;32m     33\u001b[0m \u001b[0;32mdef\u001b[0m \u001b[0mcheck_for_none\u001b[0m\u001b[0;34m(\u001b[0m\u001b[0mfunc\u001b[0m\u001b[0;34m)\u001b[0m\u001b[0;34m:\u001b[0m\u001b[0;34m\u001b[0m\u001b[0;34m\u001b[0m\u001b[0m\n\u001b[0;32m---> 34\u001b[0;31m     \u001b[0;34m@\u001b[0m\u001b[0mfunctools\u001b[0m\u001b[0;34m.\u001b[0m\u001b[0mwraps\u001b[0m\u001b[0;34m(\u001b[0m\u001b[0mfunc\u001b[0m\u001b[0;34m)\u001b[0m\u001b[0;34m\u001b[0m\u001b[0;34m\u001b[0m\u001b[0m\n\u001b[0m\u001b[1;32m     35\u001b[0m     \u001b[0;32mdef\u001b[0m \u001b[0mdecorator\u001b[0m\u001b[0;34m(\u001b[0m\u001b[0;34m*\u001b[0m\u001b[0margs\u001b[0m\u001b[0;34m,\u001b[0m \u001b[0;34m**\u001b[0m\u001b[0mkwargs\u001b[0m\u001b[0;34m)\u001b[0m\u001b[0;34m:\u001b[0m\u001b[0;34m\u001b[0m\u001b[0;34m\u001b[0m\u001b[0m\n\u001b[1;32m     36\u001b[0m         \u001b[0;32mif\u001b[0m \u001b[0margs\u001b[0m\u001b[0;34m[\u001b[0m\u001b[0;36m0\u001b[0m\u001b[0;34m]\u001b[0m \u001b[0;32mis\u001b[0m \u001b[0;32mNone\u001b[0m \u001b[0;32mor\u001b[0m \u001b[0margs\u001b[0m\u001b[0;34m[\u001b[0m\u001b[0;36m1\u001b[0m\u001b[0;34m]\u001b[0m \u001b[0;32mis\u001b[0m \u001b[0;32mNone\u001b[0m\u001b[0;34m:\u001b[0m\u001b[0;34m\u001b[0m\u001b[0;34m\u001b[0m\u001b[0m\n",
      "\u001b[0;31mKeyboardInterrupt\u001b[0m: "
     ]
    }
   ],
   "source": [
    "for i in range(15):\n",
    "    test = exs_recipes[i]['data']['ingredients']\n",
    "    print(\"INDEX: %d\"%i)\n",
    "    print(test)\n",
    "    list(map(lambda x: match_ingredient(x), test))\n",
    "    print(\"\\n\\n\")"
   ]
  },
  {
   "cell_type": "code",
   "execution_count": 197,
   "metadata": {},
   "outputs": [
    {
     "data": {
      "text/plain": [
       "['1/2 cup Parmesan cheese',\n",
       " '3/4 teaspoon ground black pepper',\n",
       " '1/2 teaspoon garlic powder',\n",
       " '1 (17.5 ounce) package frozen puff pastry, thawed',\n",
       " '1 egg white']"
      ]
     },
     "execution_count": 197,
     "metadata": {},
     "output_type": "execute_result"
    }
   ],
   "source": [
    "test"
   ]
  },
  {
   "cell_type": "code",
   "execution_count": 196,
   "metadata": {},
   "outputs": [
    {
     "name": "stdout",
     "output_type": "stream",
     "text": [
      "[{'_id': ObjectId('5ebcd38f1ec24005c9534f4b'), 'text': 'parmesan cheese', 'class': ['AG.01.e.02', 'AG.01.n.18']}]\n",
      "[{'_id': ObjectId('5ebcd38f1ec24005c9535356'), 'text': 'ground black pepper', 'class': ['AG.01']}]\n",
      "[{'_id': ObjectId('5ebcd38f1ec24005c9534ff3'), 'text': 'garlic powder', 'class': ['AG.01.h.02.e']}]\n",
      "[{'_id': ObjectId('5ebcd38f1ec24005c9536a5f'), 'text': 'puff pastry', 'class': ['AG.01.n.15']}]\n",
      "[{'_id': ObjectId('5ebcd38f1ec24005c95352e2'), 'text': 'extra egg white mixture', 'class': ['AG.01.g']}]\n"
     ]
    },
    {
     "data": {
      "text/plain": [
       "[None, None, None, None, None]"
      ]
     },
     "execution_count": 196,
     "metadata": {},
     "output_type": "execute_result"
    }
   ],
   "source": [
    "test = exs_recipes[2]['data']['ingredients']\n",
    "test\n",
    "list(map(lambda x: match_ingredient(x), test))"
   ]
  },
  {
   "cell_type": "code",
   "execution_count": 182,
   "metadata": {},
   "outputs": [],
   "source": [
    "bug = exs_recipes[12]['data']['ingredients']"
   ]
  },
  {
   "cell_type": "code",
   "execution_count": 183,
   "metadata": {},
   "outputs": [
    {
     "name": "stdout",
     "output_type": "stream",
     "text": [
      "[{'_id': ObjectId('5ebcd38f1ec24005c9535452'), 'text': 'bread rounds', 'class': ['AG.01.n.11']}]\n",
      "[{'_id': ObjectId('5ebcd38f1ec24005c9536ce8'), 'text': 'ounce coffee', 'class': ['AG.01.ad', 'AG.01.ag']}]\n",
      "[{'_id': ObjectId('5ebcd38f1ec24005c9536ce8'), 'text': 'ounce coffee', 'class': ['AG.01.ad', 'AG.01.ag']}]\n",
      "[{'_id': ObjectId('5ebcd38f1ec24005c9536620'), 'text': 'warm water', 'class': ['AG.01.z']}]\n",
      "[{'_id': ObjectId('5ebcd38f1ec24005c9536ce8'), 'text': 'ounce coffee', 'class': ['AG.01.ad', 'AG.01.ag']}]\n",
      "[{'_id': ObjectId('5ebcd38f1ec24005c9534f69'), 'text': 'olive oil', 'class': ['AG.01.f']}]\n",
      "[{'_id': ObjectId('5ebcd38f1ec24005c9537933'), 'text': 'clove garlic', 'class': ['AG.01.h.02.e', 'AG.01.l.03']}]\n",
      "[{'_id': ObjectId('5ebcd38f1ec24005c9536ce8'), 'text': 'ounce coffee', 'class': ['AG.01.ad', 'AG.01.ag']}]\n",
      "[{'_id': ObjectId('5ebcd38f1ec24005c9534f62'), 'text': 'salt', 'class': ['AG.01.l.01', 'AG.01.w']}]\n",
      "[{'_id': ObjectId('5ebcd38f1ec24005c953699d'), 'text': 'coffee cup cake mixes', 'class': ['AG.01.ad', 'AG.01.ag', 'AG.01.ak.02.a', 'AG.01.n.13', 'AG.01.y.01.a']}]\n",
      "[{'_id': ObjectId('5ebcd38f1ec24005c95351bd'), 'text': 'shredded cheese', 'class': ['AG.01.e.02', 'AG.01.n.18']}]\n",
      "[{'_id': ObjectId('5ebcd38f1ec24005c9537b56'), 'text': 'grated parmesan cheese', 'class': ['AG.01.e.02', 'AG.01.n.18']}]\n",
      "[{'_id': ObjectId('5ebcd38f1ec24005c9538015'), 'text': 'chopped parsley', 'class': ['AG.01.h.02.i']}]\n"
     ]
    },
    {
     "data": {
      "text/plain": [
       "[None, None, None, None, None, None, None, None, None, None, None, None, None]"
      ]
     },
     "execution_count": 183,
     "metadata": {},
     "output_type": "execute_result"
    }
   ],
   "source": [
    "list(map(lambda x: match_ingredient(x), bug))"
   ]
  },
  {
   "cell_type": "code",
   "execution_count": 187,
   "metadata": {},
   "outputs": [],
   "source": [
    "bug1 = exs_recipes[25]['data']['ingredients']"
   ]
  },
  {
   "cell_type": "code",
   "execution_count": null,
   "metadata": {},
   "outputs": [],
   "source": []
  }
 ],
 "metadata": {
  "kernelspec": {
   "display_name": "Python 3.7.3 64-bit ('venv': virtualenv)",
   "language": "python",
   "name": "python37364bitvenvvirtualenvc18265ac378e436698ba4d0b09e1ee14"
  },
  "language_info": {
   "codemirror_mode": {
    "name": "ipython",
    "version": 3
   },
   "file_extension": ".py",
   "mimetype": "text/x-python",
   "name": "python",
   "nbconvert_exporter": "python",
   "pygments_lexer": "ipython3",
   "version": "3.7.3"
  }
 },
 "nbformat": 4,
 "nbformat_minor": 4
}
