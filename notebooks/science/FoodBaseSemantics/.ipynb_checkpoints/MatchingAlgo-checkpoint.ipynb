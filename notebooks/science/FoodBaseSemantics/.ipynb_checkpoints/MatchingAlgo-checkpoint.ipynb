{
 "cells": [
  {
   "cell_type": "code",
   "execution_count": 1,
   "metadata": {},
   "outputs": [],
   "source": [
    "import sys\n",
    "sys.path.insert(0, \"/Users/artur/workspace/recipedb\")\n",
    "from recipedb.db import get_db\n",
    "import functools\n",
    "import pandas as pd\n",
    "import numpy as np\n",
    "from fuzzywuzzy import fuzz\n",
    "db = get_db()"
   ]
  },
  {
   "cell_type": "code",
   "execution_count": 2,
   "metadata": {},
   "outputs": [],
   "source": [
    "exs = db.allrecipes.find({\"error\":{\"$eq\":None}})"
   ]
  },
  {
   "cell_type": "code",
   "execution_count": 3,
   "metadata": {},
   "outputs": [],
   "source": [
    "NUM_EXAMPLES = 100\n",
    "exs_recipes = list(map(lambda x: next(exs), range(NUM_EXAMPLES))) # grab the next NUM_EXAMPLES from cursor above"
   ]
  },
  {
   "cell_type": "code",
   "execution_count": 18,
   "metadata": {},
   "outputs": [],
   "source": [
    "ingreds = exs_recipes[25]['data']['ingredients']"
   ]
  },
  {
   "cell_type": "code",
   "execution_count": 13,
   "metadata": {},
   "outputs": [],
   "source": [
    "annots = pd.read_csv('annotations.csv')\n",
    "text_list =  list(annots['text'])"
   ]
  },
  {
   "cell_type": "code",
   "execution_count": 14,
   "metadata": {},
   "outputs": [],
   "source": [
    "def match_ingredient(ingred):\n",
    "    matches = list(map(lambda x: fuzz.token_sort_ratio(x, ingred), text_list))\n",
    "    print(max(matches))\n",
    "    return annots.iloc[np.argmax(matches)]"
   ]
  },
  {
   "cell_type": "code",
   "execution_count": 19,
   "metadata": {},
   "outputs": [
    {
     "name": "stdout",
     "output_type": "stream",
     "text": [
      "79\n",
      "67\n",
      "76\n",
      "71\n",
      "70\n",
      "46\n",
      "44\n",
      "85\n",
      "62\n",
      "80\n"
     ]
    },
    {
     "data": {
      "text/plain": [
       "[Unnamed: 0                                                 3331\n",
       " text                                                rolled oats\n",
       " class         [{'id': 'AG.01.i', 'name': 'Corn/cereals/grain'}]\n",
       " Name: 1643, dtype: object,\n",
       " Unnamed: 0                                 1191\n",
       " text                                   molasses\n",
       " class         [{'id': 'AG.01', 'name': 'Food'}]\n",
       " Name: 1271, dtype: object,\n",
       " Unnamed: 0                                        50\n",
       " text                                   vegetable oil\n",
       " class         [{'id': 'AG.01.f', 'name': 'Fat/oil'}]\n",
       " Name: 1999, dtype: object,\n",
       " Unnamed: 0                                                 1404\n",
       " text                                              seasoned salt\n",
       " class         [{'id': 'AG.01.l.01', 'name': 'Salt'}, {'id': ...\n",
       " Name: 1710, dtype: object,\n",
       " Unnamed: 0                                     201\n",
       " text                                 boiling water\n",
       " class         [{'id': 'AG.01.z', 'name': 'Water'}]\n",
       " Name: 163, dtype: object,\n",
       " Unnamed: 0                                                 9074\n",
       " text                                clove-studded orange halves\n",
       " class         [{'id': 'AG.01.l.03', 'name': 'Spice'}, {'id':...\n",
       " Name: 447, dtype: object,\n",
       " Unnamed: 0                                   12782\n",
       " text                                lukewarm water\n",
       " class         [{'id': 'AG.01.z', 'name': 'Water'}]\n",
       " Name: 1164, dtype: object,\n",
       " Unnamed: 0                                                 2747\n",
       " text                                          whole wheat flour\n",
       " class         [{'id': 'AG.01.e', 'name': 'Dairy produce'}, {...\n",
       " Name: 2070, dtype: object,\n",
       " Unnamed: 0                                       3998\n",
       " text                                      bread cubes\n",
       " class         [{'id': 'AG.01.n.11', 'name': 'Bread'}]\n",
       " Name: 178, dtype: object,\n",
       " Unnamed: 0                                    110\n",
       " text                                         eggs\n",
       " class         [{'id': 'AG.01.g', 'name': 'Eggs'}]\n",
       " Name: 733, dtype: object]"
      ]
     },
     "execution_count": 19,
     "metadata": {},
     "output_type": "execute_result"
    }
   ],
   "source": [
    "list(map(lambda x:match_ingredient(x), ingreds))"
   ]
  },
  {
   "cell_type": "code",
   "execution_count": 11,
   "metadata": {},
   "outputs": [
    {
     "data": {
      "text/plain": [
       "['1 1/4 cups all-purpose flour',\n",
       " '1 egg',\n",
       " '1 1/4 cups buttermilk',\n",
       " '1/4 cup white sugar',\n",
       " '1 teaspoon baking powder',\n",
       " '1 teaspoon baking soda',\n",
       " '1/4 cup vegetable oil']"
      ]
     },
     "execution_count": 11,
     "metadata": {},
     "output_type": "execute_result"
    }
   ],
   "source": [
    "ingreds"
   ]
  },
  {
   "cell_type": "code",
   "execution_count": 98,
   "metadata": {},
   "outputs": [
    {
     "name": "stdout",
     "output_type": "stream",
     "text": [
      "73\n"
     ]
    },
    {
     "data": {
      "text/plain": [
       "Unnamed: 0                                                  115\n",
       "text                                                white sugar\n",
       "class         [{'id': 'AG.01.l.02', 'name': 'Sweetener (syru...\n",
       "Name: 2061, dtype: object"
      ]
     },
     "execution_count": 98,
     "metadata": {},
     "output_type": "execute_result"
    }
   ],
   "source": [
    "match_ingredient(ingreds[2])"
   ]
  },
  {
   "cell_type": "code",
   "execution_count": null,
   "metadata": {},
   "outputs": [],
   "source": []
  }
 ],
 "metadata": {
  "kernelspec": {
   "display_name": "Python 3.7.3 64-bit ('venv': virtualenv)",
   "language": "python",
   "name": "python37364bitvenvvirtualenvc18265ac378e436698ba4d0b09e1ee14"
  },
  "language_info": {
   "codemirror_mode": {
    "name": "ipython",
    "version": 3
   },
   "file_extension": ".py",
   "mimetype": "text/x-python",
   "name": "python",
   "nbconvert_exporter": "python",
   "pygments_lexer": "ipython3",
   "version": "3.7.3"
  }
 },
 "nbformat": 4,
 "nbformat_minor": 4
}
