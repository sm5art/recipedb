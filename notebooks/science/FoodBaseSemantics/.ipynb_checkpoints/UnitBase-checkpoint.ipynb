{
 "cells": [
  {
   "cell_type": "code",
   "execution_count": 1,
   "metadata": {},
   "outputs": [],
   "source": [
    "import sys\n",
    "sys.path.insert(0, \"/Users/artur/workspace/recipedb\")\n",
    "from recipedb.db import get_db"
   ]
  },
  {
   "cell_type": "code",
   "execution_count": 2,
   "metadata": {},
   "outputs": [],
   "source": [
    "db = get_db()"
   ]
  },
  {
   "cell_type": "code",
   "execution_count": 3,
   "metadata": {},
   "outputs": [],
   "source": [
    "def add_unit(typ, unit_id, conversion, alternative_names):\n",
    "    db.UnitBase.insert_one({\n",
    "        \"unit_id\": unit_id,\n",
    "        \"type\": typ,\n",
    "        \"conversion\": conversion,\n",
    "    })\n",
    "    terms = list(alternative_names)\n",
    "    terms.append(unit_id)\n",
    "    unit_terms = list(map(lambda x: {'text': x, 'unit_id': unit_id }, terms))\n",
    "    db.UnitTerms.insert_many(unit_terms)"
   ]
  },
  {
   "cell_type": "code",
   "execution_count": 5,
   "metadata": {},
   "outputs": [
    {
     "name": "stderr",
     "output_type": "stream",
     "text": [
      "/Users/artur/workspace/recipedb/venv/lib/python3.7/site-packages/ipykernel_launcher.py:5: DeprecationWarning: insert is deprecated. Use insert_one or insert_many instead.\n",
      "  \"\"\"\n"
     ]
    }
   ],
   "source": [
    "add_unit(\"volume\", \"teaspoon\", 5, [\"tsp\"])"
   ]
  },
  {
   "cell_type": "code",
   "execution_count": 6,
   "metadata": {},
   "outputs": [
    {
     "name": "stderr",
     "output_type": "stream",
     "text": [
      "/Users/artur/workspace/recipedb/venv/lib/python3.7/site-packages/ipykernel_launcher.py:5: DeprecationWarning: insert is deprecated. Use insert_one or insert_many instead.\n",
      "  \"\"\"\n"
     ]
    }
   ],
   "source": [
    "add_unit(\"volume\", \"tablespoon\", 15, [\"tbl\", \"tbs\", \"tbsp\"])"
   ]
  },
  {
   "cell_type": "code",
   "execution_count": 8,
   "metadata": {},
   "outputs": [
    {
     "name": "stderr",
     "output_type": "stream",
     "text": [
      "/Users/artur/workspace/recipedb/venv/lib/python3.7/site-packages/ipykernel_launcher.py:5: DeprecationWarning: insert is deprecated. Use insert_one or insert_many instead.\n",
      "  \"\"\"\n"
     ]
    }
   ],
   "source": [
    "add_unit(\"volume\", \"gill\", 118, [])"
   ]
  },
  {
   "cell_type": "code",
   "execution_count": 9,
   "metadata": {},
   "outputs": [
    {
     "name": "stderr",
     "output_type": "stream",
     "text": [
      "/Users/artur/workspace/recipedb/venv/lib/python3.7/site-packages/ipykernel_launcher.py:5: DeprecationWarning: insert is deprecated. Use insert_one or insert_many instead.\n",
      "  \"\"\"\n"
     ]
    }
   ],
   "source": [
    "add_unit(\"volume\", \"cup\", 236.588, [])"
   ]
  },
  {
   "cell_type": "code",
   "execution_count": 10,
   "metadata": {},
   "outputs": [
    {
     "name": "stderr",
     "output_type": "stream",
     "text": [
      "/Users/artur/workspace/recipedb/venv/lib/python3.7/site-packages/ipykernel_launcher.py:5: DeprecationWarning: insert is deprecated. Use insert_one or insert_many instead.\n",
      "  \"\"\"\n"
     ]
    }
   ],
   "source": [
    "add_unit(\"volume\", \"pint\", 473.176, [])"
   ]
  },
  {
   "cell_type": "code",
   "execution_count": 11,
   "metadata": {},
   "outputs": [
    {
     "name": "stderr",
     "output_type": "stream",
     "text": [
      "/Users/artur/workspace/recipedb/venv/lib/python3.7/site-packages/ipykernel_launcher.py:5: DeprecationWarning: insert is deprecated. Use insert_one or insert_many instead.\n",
      "  \"\"\"\n"
     ]
    }
   ],
   "source": [
    "add_unit(\"volume\", \"quart\", 946.353, [])"
   ]
  },
  {
   "cell_type": "code",
   "execution_count": 12,
   "metadata": {},
   "outputs": [
    {
     "name": "stderr",
     "output_type": "stream",
     "text": [
      "/Users/artur/workspace/recipedb/venv/lib/python3.7/site-packages/ipykernel_launcher.py:5: DeprecationWarning: insert is deprecated. Use insert_one or insert_many instead.\n",
      "  \"\"\"\n"
     ]
    }
   ],
   "source": [
    "add_unit(\"volume\", \"gallon\", 3785.41, [])"
   ]
  },
  {
   "cell_type": "code",
   "execution_count": 13,
   "metadata": {},
   "outputs": [
    {
     "name": "stderr",
     "output_type": "stream",
     "text": [
      "/Users/artur/workspace/recipedb/venv/lib/python3.7/site-packages/ipykernel_launcher.py:5: DeprecationWarning: insert is deprecated. Use insert_one or insert_many instead.\n",
      "  \"\"\"\n"
     ]
    }
   ],
   "source": [
    "add_unit(\"volume\", \"ml\", 1, [\"milliliter\", \"millilitre\"])"
   ]
  },
  {
   "cell_type": "code",
   "execution_count": 14,
   "metadata": {},
   "outputs": [
    {
     "name": "stderr",
     "output_type": "stream",
     "text": [
      "/Users/artur/workspace/recipedb/venv/lib/python3.7/site-packages/ipykernel_launcher.py:5: DeprecationWarning: insert is deprecated. Use insert_one or insert_many instead.\n",
      "  \"\"\"\n"
     ]
    }
   ],
   "source": [
    "add_unit(\"volume\", \"l\", 1000, [\"liter\", \"litre\"])"
   ]
  },
  {
   "cell_type": "code",
   "execution_count": 15,
   "metadata": {},
   "outputs": [
    {
     "name": "stderr",
     "output_type": "stream",
     "text": [
      "/Users/artur/workspace/recipedb/venv/lib/python3.7/site-packages/ipykernel_launcher.py:5: DeprecationWarning: insert is deprecated. Use insert_one or insert_many instead.\n",
      "  \"\"\"\n"
     ]
    }
   ],
   "source": [
    "add_unit(\"mass\", \"pound\", 453.592, [\"lb\",])"
   ]
  },
  {
   "cell_type": "code",
   "execution_count": 16,
   "metadata": {},
   "outputs": [
    {
     "name": "stderr",
     "output_type": "stream",
     "text": [
      "/Users/artur/workspace/recipedb/venv/lib/python3.7/site-packages/ipykernel_launcher.py:5: DeprecationWarning: insert is deprecated. Use insert_one or insert_many instead.\n",
      "  \"\"\"\n"
     ]
    }
   ],
   "source": [
    "add_unit(\"mass\", \"ounce\", 28.3495, [\"oz\",])"
   ]
  },
  {
   "cell_type": "code",
   "execution_count": 21,
   "metadata": {},
   "outputs": [
    {
     "name": "stderr",
     "output_type": "stream",
     "text": [
      "/Users/artur/workspace/recipedb/venv/lib/python3.7/site-packages/ipykernel_launcher.py:5: DeprecationWarning: insert is deprecated. Use insert_one or insert_many instead.\n",
      "  \"\"\"\n"
     ]
    }
   ],
   "source": [
    "add_unit(\"mass\", \"mg\", 10**(-3), [\"milligram\", \"milligramme\"])"
   ]
  },
  {
   "cell_type": "code",
   "execution_count": 22,
   "metadata": {},
   "outputs": [
    {
     "name": "stderr",
     "output_type": "stream",
     "text": [
      "/Users/artur/workspace/recipedb/venv/lib/python3.7/site-packages/ipykernel_launcher.py:5: DeprecationWarning: insert is deprecated. Use insert_one or insert_many instead.\n",
      "  \"\"\"\n"
     ]
    }
   ],
   "source": [
    "add_unit(\"mass\", \"g\", 1, [\"gram\", \"gramme\"])"
   ]
  },
  {
   "cell_type": "code",
   "execution_count": 23,
   "metadata": {},
   "outputs": [
    {
     "name": "stderr",
     "output_type": "stream",
     "text": [
      "/Users/artur/workspace/recipedb/venv/lib/python3.7/site-packages/ipykernel_launcher.py:5: DeprecationWarning: insert is deprecated. Use insert_one or insert_many instead.\n",
      "  \"\"\"\n"
     ]
    }
   ],
   "source": [
    "add_unit(\"mass\", \"kg\", 1000, [\"kilogram\", \"kilogramme\"])"
   ]
  },
  {
   "cell_type": "code",
   "execution_count": 4,
   "metadata": {},
   "outputs": [
    {
     "data": {
      "text/plain": [
       "[{'_id': ObjectId('5ec213a86464fda41be88c6e'),\n",
       "  'unit_id': 'teaspoon',\n",
       "  'type': 'volume',\n",
       "  'conversion': 5},\n",
       " {'_id': ObjectId('5ec2140d6464fda41be88c71'),\n",
       "  'unit_id': 'tablespoon',\n",
       "  'type': 'volume',\n",
       "  'conversion': 15},\n",
       " {'_id': ObjectId('5ec214be6464fda41be88c7b'),\n",
       "  'unit_id': 'gill',\n",
       "  'type': 'volume',\n",
       "  'conversion': 118},\n",
       " {'_id': ObjectId('5ec214ed6464fda41be88c7d'),\n",
       "  'unit_id': 'cup',\n",
       "  'type': 'volume',\n",
       "  'conversion': 236.588},\n",
       " {'_id': ObjectId('5ec2152c6464fda41be88c7f'),\n",
       "  'unit_id': 'pint',\n",
       "  'type': 'volume',\n",
       "  'conversion': 473.176},\n",
       " {'_id': ObjectId('5ec215406464fda41be88c81'),\n",
       "  'unit_id': 'quart',\n",
       "  'type': 'volume',\n",
       "  'conversion': 946.353},\n",
       " {'_id': ObjectId('5ec215686464fda41be88c83'),\n",
       "  'unit_id': 'gallon',\n",
       "  'type': 'volume',\n",
       "  'conversion': 3785.41},\n",
       " {'_id': ObjectId('5ec215b46464fda41be88c85'),\n",
       "  'unit_id': 'ml',\n",
       "  'type': 'volume',\n",
       "  'conversion': 1},\n",
       " {'_id': ObjectId('5ec215df6464fda41be88c89'),\n",
       "  'unit_id': 'l',\n",
       "  'type': 'volume',\n",
       "  'conversion': 1000},\n",
       " {'_id': ObjectId('5ec2160e6464fda41be88c8d'),\n",
       "  'unit_id': 'pound',\n",
       "  'type': 'mass',\n",
       "  'conversion': 453.592},\n",
       " {'_id': ObjectId('5ec2163a6464fda41be88c90'),\n",
       "  'unit_id': 'ounce',\n",
       "  'type': 'mass',\n",
       "  'conversion': 28.3495},\n",
       " {'_id': ObjectId('5ec2168e6464fda41be88c93'),\n",
       "  'unit_id': 'mg',\n",
       "  'type': 'mass',\n",
       "  'conversion': 0.001},\n",
       " {'_id': ObjectId('5ec216a76464fda41be88c97'),\n",
       "  'unit_id': 'g',\n",
       "  'type': 'mass',\n",
       "  'conversion': 1},\n",
       " {'_id': ObjectId('5ec216cd6464fda41be88c9b'),\n",
       "  'unit_id': 'kg',\n",
       "  'type': 'mass',\n",
       "  'conversion': 1000}]"
      ]
     },
     "execution_count": 4,
     "metadata": {},
     "output_type": "execute_result"
    }
   ],
   "source": [
    "list(db.UnitBase.find())"
   ]
  },
  {
   "cell_type": "code",
   "execution_count": null,
   "metadata": {},
   "outputs": [],
   "source": []
  }
 ],
 "metadata": {
  "kernelspec": {
   "display_name": "Python 3.7.3 64-bit ('venv': virtualenv)",
   "language": "python",
   "name": "python37364bitvenvvirtualenvc18265ac378e436698ba4d0b09e1ee14"
  },
  "language_info": {
   "codemirror_mode": {
    "name": "ipython",
    "version": 3
   },
   "file_extension": ".py",
   "mimetype": "text/x-python",
   "name": "python",
   "nbconvert_exporter": "python",
   "pygments_lexer": "ipython3",
   "version": "3.7.3"
  }
 },
 "nbformat": 4,
 "nbformat_minor": 4
}
