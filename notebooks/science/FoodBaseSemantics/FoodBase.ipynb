{
 "cells": [
  {
   "cell_type": "code",
   "execution_count": 6,
   "metadata": {},
   "outputs": [],
   "source": [
    "from bs4 import BeautifulSoup\n",
    "import re"
   ]
  },
  {
   "cell_type": "code",
   "execution_count": 7,
   "metadata": {},
   "outputs": [],
   "source": [
    "DATA_HOME = \"foodbase/\"\n",
    "data = open(\"%sFoodBase_curated.xml\" % DATA_HOME).read()"
   ]
  },
  {
   "cell_type": "code",
   "execution_count": 8,
   "metadata": {},
   "outputs": [],
   "source": [
    "soup = BeautifulSoup(data, 'lxml')"
   ]
  },
  {
   "cell_type": "code",
   "execution_count": 9,
   "metadata": {},
   "outputs": [],
   "source": [
    "annotations = soup.find_all(\"annotation\")"
   ]
  },
  {
   "cell_type": "code",
   "execution_count": 10,
   "metadata": {},
   "outputs": [],
   "source": [
    "text = annotations[0].find('text').text"
   ]
  },
  {
   "cell_type": "code",
   "execution_count": 11,
   "metadata": {},
   "outputs": [],
   "source": [
    "classes = annotations[0].find('infon').text.split(';')\n",
    "classes.remove('')"
   ]
  },
  {
   "cell_type": "code",
   "execution_count": 12,
   "metadata": {},
   "outputs": [],
   "source": [
    "pattern = re.compile(r\"\\s*(\\S+)\\s+\\[(.+)\\]\")"
   ]
  },
  {
   "cell_type": "code",
   "execution_count": 13,
   "metadata": {},
   "outputs": [
    {
     "data": {
      "text/plain": [
       "[('AG.01.e', 'Dairy produce')]"
      ]
     },
     "execution_count": 13,
     "metadata": {},
     "output_type": "execute_result"
    }
   ],
   "source": [
    "pattern.findall(classes[0])"
   ]
  },
  {
   "cell_type": "code",
   "execution_count": 14,
   "metadata": {},
   "outputs": [],
   "source": [
    "all_classes = {\n",
    "}\n",
    "\n",
    "processed_annotations = []\n",
    "\n",
    "for annotation in annotations:\n",
    "    text = annotation.find('text').text\n",
    "    classes = annotation.find('infon').text.split(';')\n",
    "    classes.remove('')\n",
    "    cleaned_classes = []\n",
    "    for classs in classes:\n",
    "        groups = pattern.findall(classs)\n",
    "        if len(groups) > 0:\n",
    "            groups = groups[0]\n",
    "        else:\n",
    "            continue\n",
    "        all_classes[groups[0]] = groups[1]\n",
    "        cleaned_classes.append({\n",
    "            \"id\": groups[0],\n",
    "            \"name\": groups[1]\n",
    "        })\n",
    "    processed_annotations.append({\n",
    "        \"text\": text,\n",
    "        \"class\": cleaned_classes\n",
    "    })\n",
    "    "
   ]
  },
  {
   "cell_type": "code",
   "execution_count": 15,
   "metadata": {},
   "outputs": [
    {
     "data": {
      "text/plain": [
       "{'AG.01.e': 'Dairy produce',\n",
       " 'AG.01.e.02': 'Cheese',\n",
       " 'AG.01.n': 'Dishes and prepared food',\n",
       " 'AG.01.n.18': 'Preserve',\n",
       " 'AG.01.d.03': 'Beef',\n",
       " 'AG.01.h.01.e': 'Fruit containing stone',\n",
       " 'AG.01.h.02.e': 'Onion/leek/garlic',\n",
       " 'AG.01.h': 'Fruit and vegetables',\n",
       " 'AG.01.l.04': 'Sauce/dressing',\n",
       " 'AG.01.h.01.f': 'Nut',\n",
       " 'AG.01.h.02.b': 'Stalk vegetables',\n",
       " 'AG.01.n.01': 'Food by way of preparation',\n",
       " 'AG.01.n.11': 'Bread',\n",
       " 'AG.01.n.12': 'Pancake/tortilla/oatcake',\n",
       " 'AG.01': 'Food',\n",
       " 'AG.01.z': 'Water',\n",
       " 'AG.01.h.02.f': 'Fruits as vegetables',\n",
       " 'AG.01.af': 'Tea manufacture',\n",
       " 'AG.01.f': 'Fat/oil',\n",
       " 'AG.01.l.01': 'Salt',\n",
       " 'AG.01.w': 'Setting table',\n",
       " 'AG.01.h.02.g': 'Pulse',\n",
       " 'AG.01.ab': 'Fruit juice/squash',\n",
       " 'AG.01.h.01.a': 'Citrus fruit',\n",
       " 'AG.01.l.02': 'Sweetener (syrup/honey/chocolate)',\n",
       " 'AF.20.f': 'Pulses/plants producing pulses',\n",
       " 'AG.01.d.06': 'Fowls',\n",
       " 'AG.01.i': 'Corn/cereals/grain',\n",
       " 'AG.01.d': 'Animals for food',\n",
       " 'AG.01.t.08': 'Equipment for food preparation',\n",
       " 'AG.01.t.06': 'Preserving/pickling',\n",
       " 'AG.01.h.02': 'Vegetables',\n",
       " 'AG.01.m': 'Substances for food preparation',\n",
       " 'AG.01.n.09': 'Prepared vegetables and dishes',\n",
       " 'AG.01.d.04': 'Mutton',\n",
       " 'AG.01.l.03': 'Spice',\n",
       " 'AF.10.e': 'Leaf',\n",
       " 'AG.01.h.01.b': 'Berry',\n",
       " 'AG.01.ae.01': 'Wine-making',\n",
       " 'AG.01.l': 'Additive',\n",
       " 'AG.01.g': 'Eggs',\n",
       " 'AG.01.t.07': 'Cooking',\n",
       " 'AE.07.d': 'Covering/skin',\n",
       " 'AE.08': 'Invertebrates',\n",
       " 'AG.01.k': 'Flour',\n",
       " 'AF.12': 'Particular plants/herbs/shrubs',\n",
       " 'AG.01.n.17': 'Confections/sweetmeats',\n",
       " 'AG.01.h.02.d': 'Cabbage/kale',\n",
       " 'AG.01.h.02.a': 'Root vegetable',\n",
       " 'AG.01.j': 'Meal',\n",
       " 'AG.01.d.05': 'Pork',\n",
       " 'AG.01.n.05': 'Sausage',\n",
       " 'AG.01.h.02.i': 'Herb',\n",
       " 'AG.01.n.08': 'Prepared fruit and dishes',\n",
       " 'AG.01.n.13': 'Cake',\n",
       " 'AG.01.n.14': 'Biscuit',\n",
       " 'AG.01.e.01': 'Butter',\n",
       " 'AG.01.h.01': 'Fruit/a fruit',\n",
       " 'AG.01.t.05': 'Preparation for table/cooking',\n",
       " 'AG.01.ak': 'Drinking',\n",
       " 'AE': 'Animals',\n",
       " 'AE.12.b': 'Order Chelonia (turtles, tortoises)',\n",
       " 'AF.10.h': 'Reproductive product - fruit, nut',\n",
       " 'AG.01.o': 'Animal food',\n",
       " 'AE.14.j': 'Family Equidae (general equines)',\n",
       " 'AF.13': 'Particular tree/shrub',\n",
       " 'AG.01.n.15': 'Pastry',\n",
       " 'AE.07.b': 'Body and limbs',\n",
       " 'AG.01.d.07': 'Seafood',\n",
       " 'AG.01.n.17.a': 'Sweets',\n",
       " 'AF.20.g': 'Cereal/corn/grain',\n",
       " 'AF.19': 'Algae, seaweed',\n",
       " 'AG.01.n.02': 'Soup/pottage',\n",
       " 'AG.01.h.02.h': 'Fungi',\n",
       " 'AG.01.h.02.c': 'Leaf vegetables',\n",
       " 'AF.20.e': 'Particular vegetables',\n",
       " 'AG.01.aa': 'Aerated/carbonated drink',\n",
       " 'AG.01.y.01.a': 'Wine',\n",
       " 'AF.06': 'Plants defined by growth/development',\n",
       " 'AF.10.b': 'Shoot/sprout/branch',\n",
       " 'AF.10.i': 'Seed',\n",
       " 'AG.01.r': 'Meal',\n",
       " 'AG.01.y.01.b': 'Ale/beer',\n",
       " 'AG.01.ak.02': 'Thirst',\n",
       " 'AG.01.y': 'Drink',\n",
       " 'AF.24': 'Yielding fibre/thatching/basket material',\n",
       " 'AG.01.y.01': 'Intoxicating liquor',\n",
       " 'AF.10.k': 'Cell/aggregate tissue',\n",
       " 'AF.02.a': 'Food plant/vegetable',\n",
       " 'AE.10.g': 'Order Perciformes (perches)',\n",
       " 'AF.10.a': 'Stem/stalk',\n",
       " 'AG.01.a': 'Qualities of food',\n",
       " 'AG.01.y.01.g': 'Cocktail',\n",
       " 'AF.20': 'Particular food plant/product',\n",
       " 'AF.20.b': 'Particular fruit-tree/-plant',\n",
       " 'AG.01.ac': 'Tea',\n",
       " 'AE.08.i': 'Class Insecta (insects)',\n",
       " 'AE.13': 'Class Aves (birds)',\n",
       " 'AG.01.p': 'Amounts of food',\n",
       " 'AG.01.n.04': 'Jelly',\n",
       " 'AF': 'Plants',\n",
       " 'AF.03': 'Valued plants and weeds',\n",
       " 'AF.28': 'Fragrant plants/plants used in perfumery',\n",
       " 'AG.01.d.02': 'Part/joint of animal',\n",
       " 'AE.14.j.04': 'Habits and actions of horse',\n",
       " 'AE.07': 'Animal body',\n",
       " 'AF.10': 'Part of plant',\n",
       " 'AG.01.n.06': 'Meat dishes',\n",
       " 'AG.01.ak.01': 'Drinking place',\n",
       " 'AG.01.n.10': 'Grain dishes',\n",
       " 'AG.01.n.03': 'Puddings',\n",
       " 'AG.01.h.01.c': 'Apple',\n",
       " 'AF.29': 'Particular cultivated/ornamental plants',\n",
       " 'AG.01.ae.03': 'Brewing',\n",
       " 'AG.01.ae.02': 'Malting',\n",
       " 'AG.01.b': 'Consistency of food',\n",
       " 'AE.14.m.03': 'Subfamily Bovinae (bovines)',\n",
       " 'AF.20.h': 'Yielding condiments/used in food preparation',\n",
       " 'AG.01.ak.02.a': 'Excess in drinking',\n",
       " 'AAG.01.m': 'Substances for food preparation',\n",
       " 'AG.01.ad': 'Coffee',\n",
       " 'AG.01.ag': 'Coffee manufacture',\n",
       " 'AG.01.t.02': 'Preparation of dairy produce',\n",
       " 'AG.01.u': 'Container for food, place for storing food',\n",
       " 'AF.10.f': 'Plant substances',\n",
       " 'AF.11': 'Disease of/injury to plants',\n",
       " 'AG.01.r.03': 'Feast',\n",
       " 'AG.01.y.01.c': 'Cider',\n",
       " 'AF.10.g': 'Flower/part containing reproductive organs',\n",
       " 'AG.01.n.16': 'Egg dishes',\n",
       " 'AF.20.c': 'Edible nuts/nut-trees',\n",
       " 'AG.01.h.01.d': 'Pear',\n",
       " 'AF.13.c': 'Non-British trees/shrubs',\n",
       " 'AF.21': 'Particular medicinal/food plants/parts',\n",
       " 'AF.26': 'Plant/nut/bean yielding oil',\n",
       " 'AF.23': 'Particular timber trees/shrubs',\n",
       " 'AG.01.ah': 'Preparation of drinks',\n",
       " 'AG.01.x.02': 'Appetite',\n",
       " 'AG.01.y.01.f': 'Gin',\n",
       " 'AG.01.aj.01': 'Drinking vessel',\n",
       " 'AE.11': 'Class Amphibia (amphibians)',\n",
       " 'AE.12.d.01': 'Suborder Lacertilia (lizards)',\n",
       " 'AE.12.d.02': 'Suborder Ophidia (snakes)',\n",
       " 'AG.01.y.01.e': 'Brandy',\n",
       " 'AE.14.m.01': 'Genus Ovis (sheep)',\n",
       " 'AF.10.l': 'Wood, other part of tree/woody plant',\n",
       " 'AG.01.r.04': 'Picnic/packed meal',\n",
       " 'AG.01.s': 'Providing/receiving food',\n",
       " 'AE.13.h.01': 'Genus Gallus (domestic fowl)',\n",
       " 'AG.01.x.01': 'Eating',\n",
       " 'AG.01.c': 'Diet',\n",
       " 'AE.10': 'Fish'}"
      ]
     },
     "execution_count": 15,
     "metadata": {},
     "output_type": "execute_result"
    }
   ],
   "source": [
    "all_classes"
   ]
  },
  {
   "cell_type": "code",
   "execution_count": 19,
   "metadata": {},
   "outputs": [],
   "source": [
    "import pickle\n",
    "\n",
    "pickle.dump(all_classes, open('classes.dump', 'wb'))\n",
    "pickle.dump(processed_annotations, open('annot.dump', 'wb'))"
   ]
  },
  {
   "cell_type": "code",
   "execution_count": 16,
   "metadata": {},
   "outputs": [],
   "source": [
    "import pandas as pd"
   ]
  },
  {
   "cell_type": "code",
   "execution_count": 65,
   "metadata": {},
   "outputs": [],
   "source": [
    "annot = pd.DataFrame(processed_annotations)"
   ]
  },
  {
   "cell_type": "code",
   "execution_count": 66,
   "metadata": {},
   "outputs": [],
   "source": [
    "annot = annot.drop_duplicates('text')\n",
    "annot['text'] = annot['text'].apply(lambda x: x.lower())\n",
    "annot = annot.sort_values('text')"
   ]
  },
  {
   "cell_type": "code",
   "execution_count": 67,
   "metadata": {},
   "outputs": [],
   "source": [
    "annot.to_csv('annotations.csv')"
   ]
  },
  {
   "cell_type": "code",
   "execution_count": 2,
   "metadata": {},
   "outputs": [],
   "source": [
    "df = pd.read_csv('annotations.csv')"
   ]
  },
  {
   "cell_type": "code",
   "execution_count": null,
   "metadata": {},
   "outputs": [],
   "source": []
  }
 ],
 "metadata": {
  "kernelspec": {
   "display_name": "Python 3.7.3 64-bit ('venv': virtualenv)",
   "language": "python",
   "name": "python37364bitvenvvirtualenvc18265ac378e436698ba4d0b09e1ee14"
  },
  "language_info": {
   "codemirror_mode": {
    "name": "ipython",
    "version": 3
   },
   "file_extension": ".py",
   "mimetype": "text/x-python",
   "name": "python",
   "nbconvert_exporter": "python",
   "pygments_lexer": "ipython3",
   "version": "3.7.3"
  }
 },
 "nbformat": 4,
 "nbformat_minor": 4
}
